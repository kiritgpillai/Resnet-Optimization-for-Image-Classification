{
  "cells": [
    {
      "cell_type": "code",
      "execution_count": null,
      "metadata": {
        "colab": {
          "base_uri": "https://localhost:8080/"
        },
        "id": "orWhz0RuyiQK",
        "outputId": "602a769e-87dc-4748-b29f-9cef02950bd4"
      },
      "outputs": [
        {
          "name": "stdout",
          "output_type": "stream",
          "text": [
            "Requirement already satisfied: wandb in /usr/local/lib/python3.11/dist-packages (0.19.8)\n",
            "Requirement already satisfied: click!=8.0.0,>=7.1 in /usr/local/lib/python3.11/dist-packages (from wandb) (8.1.8)\n",
            "Requirement already satisfied: docker-pycreds>=0.4.0 in /usr/local/lib/python3.11/dist-packages (from wandb) (0.4.0)\n",
            "Requirement already satisfied: gitpython!=3.1.29,>=1.0.0 in /usr/local/lib/python3.11/dist-packages (from wandb) (3.1.44)\n",
            "Requirement already satisfied: platformdirs in /usr/local/lib/python3.11/dist-packages (from wandb) (4.3.6)\n",
            "Requirement already satisfied: protobuf!=4.21.0,!=5.28.0,<6,>=3.19.0 in /usr/local/lib/python3.11/dist-packages (from wandb) (4.25.6)\n",
            "Requirement already satisfied: psutil>=5.0.0 in /usr/local/lib/python3.11/dist-packages (from wandb) (5.9.5)\n",
            "Requirement already satisfied: pydantic<3,>=2.6 in /usr/local/lib/python3.11/dist-packages (from wandb) (2.10.6)\n",
            "Requirement already satisfied: pyyaml in /usr/local/lib/python3.11/dist-packages (from wandb) (6.0.2)\n",
            "Requirement already satisfied: requests<3,>=2.0.0 in /usr/local/lib/python3.11/dist-packages (from wandb) (2.32.3)\n",
            "Requirement already satisfied: sentry-sdk>=2.0.0 in /usr/local/lib/python3.11/dist-packages (from wandb) (2.22.0)\n",
            "Requirement already satisfied: setproctitle in /usr/local/lib/python3.11/dist-packages (from wandb) (1.3.5)\n",
            "Requirement already satisfied: setuptools in /usr/local/lib/python3.11/dist-packages (from wandb) (75.1.0)\n",
            "Requirement already satisfied: typing-extensions<5,>=4.4 in /usr/local/lib/python3.11/dist-packages (from wandb) (4.12.2)\n",
            "Requirement already satisfied: six>=1.4.0 in /usr/local/lib/python3.11/dist-packages (from docker-pycreds>=0.4.0->wandb) (1.17.0)\n",
            "Requirement already satisfied: gitdb<5,>=4.0.1 in /usr/local/lib/python3.11/dist-packages (from gitpython!=3.1.29,>=1.0.0->wandb) (4.0.12)\n",
            "Requirement already satisfied: annotated-types>=0.6.0 in /usr/local/lib/python3.11/dist-packages (from pydantic<3,>=2.6->wandb) (0.7.0)\n",
            "Requirement already satisfied: pydantic-core==2.27.2 in /usr/local/lib/python3.11/dist-packages (from pydantic<3,>=2.6->wandb) (2.27.2)\n",
            "Requirement already satisfied: charset-normalizer<4,>=2 in /usr/local/lib/python3.11/dist-packages (from requests<3,>=2.0.0->wandb) (3.4.1)\n",
            "Requirement already satisfied: idna<4,>=2.5 in /usr/local/lib/python3.11/dist-packages (from requests<3,>=2.0.0->wandb) (3.10)\n",
            "Requirement already satisfied: urllib3<3,>=1.21.1 in /usr/local/lib/python3.11/dist-packages (from requests<3,>=2.0.0->wandb) (2.3.0)\n",
            "Requirement already satisfied: certifi>=2017.4.17 in /usr/local/lib/python3.11/dist-packages (from requests<3,>=2.0.0->wandb) (2025.1.31)\n",
            "Requirement already satisfied: smmap<6,>=3.0.1 in /usr/local/lib/python3.11/dist-packages (from gitdb<5,>=4.0.1->gitpython!=3.1.29,>=1.0.0->wandb) (5.0.2)\n"
          ]
        }
      ],
      "source": [
        "pip install wandb"
      ]
    },
    {
      "cell_type": "code",
      "execution_count": null,
      "metadata": {
        "id": "j52umGXsM8LW"
      },
      "outputs": [],
      "source": [
        "import time\n",
        "import torch\n",
        "import torch.nn as nn\n",
        "import torch.nn.functional as F\n",
        "import torch.optim as optim\n",
        "import torchvision\n",
        "import torchvision.transforms as transforms\n",
        "from torchsummary import summary\n",
        "import wandb\n",
        "import torch.optim as optim\n",
        "from torchvision import datasets, transforms\n",
        "from torch.utils.data import DataLoader, random_split,Subset\n",
        "from sklearn.model_selection import train_test_split\n"
      ]
    },
    {
      "cell_type": "code",
      "execution_count": null,
      "metadata": {
        "colab": {
          "base_uri": "https://localhost:8080/"
        },
        "id": "2tWEBoQOyjW1",
        "outputId": "3ebe5423-5edd-4972-da4f-c8798995e069"
      },
      "outputs": [
        {
          "name": "stderr",
          "output_type": "stream",
          "text": [
            "\u001b[34m\u001b[1mwandb\u001b[0m: Currently logged in as: \u001b[33mkiritgpillai\u001b[0m (\u001b[33mkiritgpillai-new-york-university\u001b[0m) to \u001b[32mhttps://api.wandb.ai\u001b[0m. Use \u001b[1m`wandb login --relogin`\u001b[0m to force relogin\n"
          ]
        },
        {
          "data": {
            "text/plain": [
              "True"
            ]
          },
          "execution_count": 14,
          "metadata": {},
          "output_type": "execute_result"
        }
      ],
      "source": [
        "wandb.login()"
      ]
    },
    {
      "cell_type": "code",
      "execution_count": null,
      "metadata": {
        "colab": {
          "base_uri": "https://localhost:8080/"
        },
        "id": "_e39vbPj1Th5",
        "outputId": "785560c2-909b-492c-8c40-1f2874a62cf7"
      },
      "outputs": [
        {
          "name": "stdout",
          "output_type": "stream",
          "text": [
            "Create sweep with ID: mjwr3ao0\n",
            "Sweep URL: https://wandb.ai/kiritgpillai-new-york-university/a100-resnet-hyperparameter-tuning/sweeps/mjwr3ao0\n"
          ]
        }
      ],
      "source": [
        "# Define a sweep configuration for hyperparameter tuning\n",
        "sweep_config = {\n",
        "    'method': 'random',\n",
        "    'metric': {'name': 'val_accuracy', 'goal': 'maximize'},\n",
        "    'parameters': {\n",
        "        'learning_rate': {'values': [0.001, 0.0005, 0.0001]},\n",
        "        'batch_size': {'values': [32, 64, 128]},\n",
        "        'optimizer': {'values': ['adam','adadelta', 'rmsprop']},\n",
        "        'weight_decay': {'values': [0.0, 0.0001, 0.001]},\n",
        "        'epochs': {'value': 50}\n",
        "\n",
        "    }\n",
        "}\n",
        "\n",
        "\n",
        "# Initialize sweep\n",
        "sweep_id = wandb.sweep(sweep_config, project=\"a100-resnet-hyperparameter-tuning\")\n"
      ]
    },
    {
      "cell_type": "code",
      "execution_count": null,
      "metadata": {
        "id": "ECAmGIV8h1kT"
      },
      "outputs": [],
      "source": [
        "# Data transforms\n",
        "transform_train = transforms.Compose([\n",
        "    transforms.RandomHorizontalFlip(),\n",
        "    transforms.ToTensor(),\n",
        "    transforms.Normalize((0.5, 0.5, 0.5), (0.5, 0.5, 0.5))\n",
        "])\n",
        "transform_test = transforms.Compose([\n",
        "    transforms.ToTensor(),\n",
        "    transforms.Normalize((0.5, 0.5, 0.5), (0.5, 0.5, 0.5))\n",
        "])\n"
      ]
    },
    {
      "cell_type": "code",
      "execution_count": null,
      "metadata": {
        "colab": {
          "base_uri": "https://localhost:8080/"
        },
        "id": "U5g5DX4wh4AF",
        "outputId": "464714f3-c0df-411d-c2dc-1db02458eb2e"
      },
      "outputs": [
        {
          "name": "stdout",
          "output_type": "stream",
          "text": [
            "Files already downloaded and verified\n"
          ]
        }
      ],
      "source": [
        "# Load CIFAR-10 dataset\n",
        "transform = transforms.Compose([\n",
        "    transforms.ToTensor(),\n",
        "    transforms.Normalize((0.4914, 0.4822, 0.4465), (0.2023, 0.1994, 0.2010))\n",
        "])\n",
        "\n",
        "\n",
        "full_dataset = torchvision.datasets.CIFAR10(root='./data', train=True, download=True, transform=transform)\n",
        "\n",
        "# Calculate the sizes for training (80%) and testing (20%)\n",
        "train_size = int(0.8 * len(full_dataset))\n",
        "test_size = len(full_dataset) - train_size\n",
        "\n",
        "train_dataset, test_dataset = random_split(full_dataset, [train_size, test_size])\n",
        "\n",
        "# Create DataLoaders for the training and testing subsets\n",
        "train_loader = DataLoader(train_dataset, batch_size=64, shuffle=True, num_workers=2)\n",
        "test_loader = DataLoader(test_dataset, batch_size=64, shuffle=False, num_workers=2)\n"
      ]
    },
    {
      "cell_type": "code",
      "execution_count": null,
      "metadata": {
        "id": "lUzOv08nhRMt"
      },
      "outputs": [],
      "source": [
        "# Residual Block\n",
        "class Block(nn.Module):\n",
        "    def __init__(self, in_channels, out_channels, dropout_rate=0.1, use_1x1=False):\n",
        "        super(Block, self).__init__()\n",
        "        self.conv1 = nn.Conv2d(in_channels, out_channels, kernel_size=3, padding=1, bias=False)\n",
        "        self.bn1   = nn.BatchNorm2d(out_channels)\n",
        "        self.dropout = nn.Dropout(dropout_rate)\n",
        "        # Use a 1x1 conv for the second layer if specified\n",
        "        ksize = 1 if use_1x1 else 3\n",
        "        pad   = 0 if use_1x1 else 1\n",
        "        self.conv2 = nn.Conv2d(out_channels, out_channels, kernel_size=ksize, padding=pad, bias=False)\n",
        "        self.bn2   = nn.BatchNorm2d(out_channels)\n",
        "\n",
        "    def forward(self, x):\n",
        "        identity = x\n",
        "        out = F.relu(self.bn1(self.conv1(x)))\n",
        "        out = self.dropout(out)\n",
        "        out = self.bn2(self.conv2(out))\n",
        "        return F.relu(out + identity)"
      ]
    },
    {
      "cell_type": "code",
      "execution_count": null,
      "metadata": {
        "id": "b6bCFy21hSQz"
      },
      "outputs": [],
      "source": [
        "class CustomResNet(nn.Module):\n",
        "    def __init__(self, in_channels=3, num_classes=10):\n",
        "        super(CustomResNet, self).__init__()\n",
        "        self.initial = nn.Sequential(\n",
        "            nn.Conv2d(in_channels, 16, kernel_size=3, padding=1, bias=False),  \n",
        "            nn.BatchNorm2d(16),                                               \n",
        "            nn.Conv2d(16, 64, kernel_size=3, padding=1, bias=False),         \n",
        "            nn.BatchNorm2d(64),                                               \n",
        "            nn.Dropout(0.1)                                                   \n",
        "        )\n",
        "        self.init_custom = Block(64, 64, dropout_rate=0.1, use_1x1=True)       \n",
        "        self.blocks64 = nn.Sequential(*[Block(64, 64, dropout_rate=0.1) for _ in range(2)])\n",
        "        self.trans128 = nn.Sequential(\n",
        "            nn.Conv2d(64, 128, kernel_size=3, stride=2, padding=1, bias=False),  \n",
        "            nn.BatchNorm2d(128),                                                 \n",
        "            nn.Dropout(0.1)                                                      \n",
        "        )\n",
        "        self.custom128 = Block(128, 128, dropout_rate=0.1, use_1x1=True)         \n",
        "        self.blocks128 = nn.Sequential(*[Block(128, 128, dropout_rate=0.1) for _ in range(4)])\n",
        "        self.trans256 = nn.Sequential(\n",
        "            nn.Conv2d(128, 256, kernel_size=3, stride=2, padding=1, bias=False),  \n",
        "            nn.BatchNorm2d(256),                                                 \n",
        "            nn.Dropout(0.1)                                                       \n",
        "        )\n",
        "        self.custom256 = Block(256, 256, dropout_rate=0.1, use_1x1=True)        \n",
        "        self.blocks256 = nn.Sequential(*[Block(256, 256, dropout_rate=0.1) for _ in range(2)])\n",
        "        self.pool = nn.AdaptiveAvgPool2d((1, 1))\n",
        "        self.fc = nn.Linear(256, num_classes)\n",
        "\n",
        "    def forward(self, x):\n",
        "        x = self.initial(x)           \n",
        "        x = self.init_custom(x)        \n",
        "        x = self.blocks64(x)          \n",
        "        x = self.trans128(x)           \n",
        "        x = self.custom128(x)          \n",
        "        x = self.blocks128(x)          \n",
        "        x = self.trans256(x)          \n",
        "        x = self.custom256(x)         \n",
        "        x = self.blocks256(x)         \n",
        "        x = self.pool(x)               \n",
        "        x = torch.flatten(x, 1)\n",
        "        x = self.fc(x)                \n",
        "        return x\n"
      ]
    },
    {
      "cell_type": "code",
      "execution_count": null,
      "metadata": {
        "colab": {
          "base_uri": "https://localhost:8080/"
        },
        "collapsed": true,
        "id": "sdCeTD3biG-N",
        "outputId": "e0db3a54-95e3-465e-c9d5-cee34f8b86bf"
      },
      "outputs": [
        {
          "name": "stdout",
          "output_type": "stream",
          "text": [
            "----------------------------------------------------------------\n",
            "        Layer (type)               Output Shape         Param #\n",
            "================================================================\n",
            "            Conv2d-1           [-1, 16, 32, 32]             432\n",
            "       BatchNorm2d-2           [-1, 16, 32, 32]              32\n",
            "            Conv2d-3           [-1, 64, 32, 32]           9,216\n",
            "       BatchNorm2d-4           [-1, 64, 32, 32]             128\n",
            "           Dropout-5           [-1, 64, 32, 32]               0\n",
            "            Conv2d-6           [-1, 64, 32, 32]          36,864\n",
            "       BatchNorm2d-7           [-1, 64, 32, 32]             128\n",
            "           Dropout-8           [-1, 64, 32, 32]               0\n",
            "            Conv2d-9           [-1, 64, 32, 32]           4,096\n",
            "      BatchNorm2d-10           [-1, 64, 32, 32]             128\n",
            "            Block-11           [-1, 64, 32, 32]               0\n",
            "           Conv2d-12           [-1, 64, 32, 32]          36,864\n",
            "      BatchNorm2d-13           [-1, 64, 32, 32]             128\n",
            "          Dropout-14           [-1, 64, 32, 32]               0\n",
            "           Conv2d-15           [-1, 64, 32, 32]          36,864\n",
            "      BatchNorm2d-16           [-1, 64, 32, 32]             128\n",
            "            Block-17           [-1, 64, 32, 32]               0\n",
            "           Conv2d-18           [-1, 64, 32, 32]          36,864\n",
            "      BatchNorm2d-19           [-1, 64, 32, 32]             128\n",
            "          Dropout-20           [-1, 64, 32, 32]               0\n",
            "           Conv2d-21           [-1, 64, 32, 32]          36,864\n",
            "      BatchNorm2d-22           [-1, 64, 32, 32]             128\n",
            "            Block-23           [-1, 64, 32, 32]               0\n",
            "           Conv2d-24          [-1, 128, 16, 16]          73,728\n",
            "      BatchNorm2d-25          [-1, 128, 16, 16]             256\n",
            "          Dropout-26          [-1, 128, 16, 16]               0\n",
            "           Conv2d-27          [-1, 128, 16, 16]         147,456\n",
            "      BatchNorm2d-28          [-1, 128, 16, 16]             256\n",
            "          Dropout-29          [-1, 128, 16, 16]               0\n",
            "           Conv2d-30          [-1, 128, 16, 16]          16,384\n",
            "      BatchNorm2d-31          [-1, 128, 16, 16]             256\n",
            "            Block-32          [-1, 128, 16, 16]               0\n",
            "           Conv2d-33          [-1, 128, 16, 16]         147,456\n",
            "      BatchNorm2d-34          [-1, 128, 16, 16]             256\n",
            "          Dropout-35          [-1, 128, 16, 16]               0\n",
            "           Conv2d-36          [-1, 128, 16, 16]         147,456\n",
            "      BatchNorm2d-37          [-1, 128, 16, 16]             256\n",
            "            Block-38          [-1, 128, 16, 16]               0\n",
            "           Conv2d-39          [-1, 128, 16, 16]         147,456\n",
            "      BatchNorm2d-40          [-1, 128, 16, 16]             256\n",
            "          Dropout-41          [-1, 128, 16, 16]               0\n",
            "           Conv2d-42          [-1, 128, 16, 16]         147,456\n",
            "      BatchNorm2d-43          [-1, 128, 16, 16]             256\n",
            "            Block-44          [-1, 128, 16, 16]               0\n",
            "           Conv2d-45          [-1, 128, 16, 16]         147,456\n",
            "      BatchNorm2d-46          [-1, 128, 16, 16]             256\n",
            "          Dropout-47          [-1, 128, 16, 16]               0\n",
            "           Conv2d-48          [-1, 128, 16, 16]         147,456\n",
            "      BatchNorm2d-49          [-1, 128, 16, 16]             256\n",
            "            Block-50          [-1, 128, 16, 16]               0\n",
            "           Conv2d-51          [-1, 128, 16, 16]         147,456\n",
            "      BatchNorm2d-52          [-1, 128, 16, 16]             256\n",
            "          Dropout-53          [-1, 128, 16, 16]               0\n",
            "           Conv2d-54          [-1, 128, 16, 16]         147,456\n",
            "      BatchNorm2d-55          [-1, 128, 16, 16]             256\n",
            "            Block-56          [-1, 128, 16, 16]               0\n",
            "           Conv2d-57            [-1, 256, 8, 8]         294,912\n",
            "      BatchNorm2d-58            [-1, 256, 8, 8]             512\n",
            "          Dropout-59            [-1, 256, 8, 8]               0\n",
            "           Conv2d-60            [-1, 256, 8, 8]         589,824\n",
            "      BatchNorm2d-61            [-1, 256, 8, 8]             512\n",
            "          Dropout-62            [-1, 256, 8, 8]               0\n",
            "           Conv2d-63            [-1, 256, 8, 8]          65,536\n",
            "      BatchNorm2d-64            [-1, 256, 8, 8]             512\n",
            "            Block-65            [-1, 256, 8, 8]               0\n",
            "           Conv2d-66            [-1, 256, 8, 8]         589,824\n",
            "      BatchNorm2d-67            [-1, 256, 8, 8]             512\n",
            "          Dropout-68            [-1, 256, 8, 8]               0\n",
            "           Conv2d-69            [-1, 256, 8, 8]         589,824\n",
            "      BatchNorm2d-70            [-1, 256, 8, 8]             512\n",
            "            Block-71            [-1, 256, 8, 8]               0\n",
            "           Conv2d-72            [-1, 256, 8, 8]         589,824\n",
            "      BatchNorm2d-73            [-1, 256, 8, 8]             512\n",
            "          Dropout-74            [-1, 256, 8, 8]               0\n",
            "           Conv2d-75            [-1, 256, 8, 8]         589,824\n",
            "      BatchNorm2d-76            [-1, 256, 8, 8]             512\n",
            "            Block-77            [-1, 256, 8, 8]               0\n",
            "AdaptiveAvgPool2d-78            [-1, 256, 1, 1]               0\n",
            "           Linear-79                   [-1, 10]           2,570\n",
            "================================================================\n",
            "Total params: 4,934,746\n",
            "Trainable params: 4,934,746\n",
            "Non-trainable params: 0\n",
            "----------------------------------------------------------------\n",
            "Input size (MB): 0.01\n",
            "Forward/backward pass size (MB): 21.63\n",
            "Params size (MB): 18.82\n",
            "Estimated Total Size (MB): 40.46\n",
            "----------------------------------------------------------------\n"
          ]
        }
      ],
      "source": [
        "# Instantiate the model and move it to the appropriate device\n",
        "device = torch.device(\"cuda\" if torch.cuda.is_available() else \"cpu\")\n",
        "model = CustomResNet(num_classes=10).to(device)\n",
        "\n",
        "# Print the summary\n",
        "summary(model, input_size=(3, 32, 32))\n"
      ]
    },
    {
      "cell_type": "code",
      "execution_count": null,
      "metadata": {
        "id": "ON8T6xJFh25H"
      },
      "outputs": [],
      "source": [
        "model = CustomResNet(num_classes=10).to(device)\n",
        "criterion = nn.CrossEntropyLoss()"
      ]
    },
    {
      "cell_type": "code",
      "execution_count": null,
      "metadata": {
        "colab": {
          "base_uri": "https://localhost:8080/",
          "height": 1000
        },
        "collapsed": true,
        "id": "dVYoF9wFz3_2",
        "outputId": "8b6e362f-6915-49fe-b893-9bb3b60098f8"
      },
      "outputs": [
        {
          "name": "stderr",
          "output_type": "stream",
          "text": [
            "\u001b[34m\u001b[1mwandb\u001b[0m: Agent Starting Run: qjucqsug with config:\n",
            "\u001b[34m\u001b[1mwandb\u001b[0m: \tbatch_size: 128\n",
            "\u001b[34m\u001b[1mwandb\u001b[0m: \tepochs: 50\n",
            "\u001b[34m\u001b[1mwandb\u001b[0m: \tlearning_rate: 0.0005\n",
            "\u001b[34m\u001b[1mwandb\u001b[0m: \toptimizer: adadelta\n",
            "\u001b[34m\u001b[1mwandb\u001b[0m: \tweight_decay: 0.0001\n"
          ]
        },
        {
          "data": {
            "text/html": [
              "Tracking run with wandb version 0.19.8"
            ],
            "text/plain": [
              "<IPython.core.display.HTML object>"
            ]
          },
          "metadata": {},
          "output_type": "display_data"
        },
        {
          "data": {
            "text/html": [
              "Run data is saved locally in <code>/content/wandb/run-20250313_171831-qjucqsug</code>"
            ],
            "text/plain": [
              "<IPython.core.display.HTML object>"
            ]
          },
          "metadata": {},
          "output_type": "display_data"
        },
        {
          "data": {
            "text/html": [
              "Syncing run <strong><a href='https://wandb.ai/kiritgpillai-new-york-university/a100-resnet-hyperparameter-tuning/runs/qjucqsug' target=\"_blank\">playful-sweep-1</a></strong> to <a href='https://wandb.ai/kiritgpillai-new-york-university/a100-resnet-hyperparameter-tuning' target=\"_blank\">Weights & Biases</a> (<a href='https://wandb.me/developer-guide' target=\"_blank\">docs</a>)<br>Sweep page: <a href='https://wandb.ai/kiritgpillai-new-york-university/a100-resnet-hyperparameter-tuning/sweeps/mjwr3ao0' target=\"_blank\">https://wandb.ai/kiritgpillai-new-york-university/a100-resnet-hyperparameter-tuning/sweeps/mjwr3ao0</a>"
            ],
            "text/plain": [
              "<IPython.core.display.HTML object>"
            ]
          },
          "metadata": {},
          "output_type": "display_data"
        },
        {
          "data": {
            "text/html": [
              " View project at <a href='https://wandb.ai/kiritgpillai-new-york-university/a100-resnet-hyperparameter-tuning' target=\"_blank\">https://wandb.ai/kiritgpillai-new-york-university/a100-resnet-hyperparameter-tuning</a>"
            ],
            "text/plain": [
              "<IPython.core.display.HTML object>"
            ]
          },
          "metadata": {},
          "output_type": "display_data"
        },
        {
          "data": {
            "text/html": [
              " View sweep at <a href='https://wandb.ai/kiritgpillai-new-york-university/a100-resnet-hyperparameter-tuning/sweeps/mjwr3ao0' target=\"_blank\">https://wandb.ai/kiritgpillai-new-york-university/a100-resnet-hyperparameter-tuning/sweeps/mjwr3ao0</a>"
            ],
            "text/plain": [
              "<IPython.core.display.HTML object>"
            ]
          },
          "metadata": {},
          "output_type": "display_data"
        },
        {
          "data": {
            "text/html": [
              " View run at <a href='https://wandb.ai/kiritgpillai-new-york-university/a100-resnet-hyperparameter-tuning/runs/qjucqsug' target=\"_blank\">https://wandb.ai/kiritgpillai-new-york-university/a100-resnet-hyperparameter-tuning/runs/qjucqsug</a>"
            ],
            "text/plain": [
              "<IPython.core.display.HTML object>"
            ]
          },
          "metadata": {},
          "output_type": "display_data"
        },
        {
          "data": {
            "text/html": [],
            "text/plain": [
              "<IPython.core.display.HTML object>"
            ]
          },
          "metadata": {},
          "output_type": "display_data"
        },
        {
          "data": {
            "text/html": [
              "<br>    <style><br>        .wandb-row {<br>            display: flex;<br>            flex-direction: row;<br>            flex-wrap: wrap;<br>            justify-content: flex-start;<br>            width: 100%;<br>        }<br>        .wandb-col {<br>            display: flex;<br>            flex-direction: column;<br>            flex-basis: 100%;<br>            flex: 1;<br>            padding: 10px;<br>        }<br>    </style><br><div class=\"wandb-row\"><div class=\"wandb-col\"><h3>Run history:</h3><br/><table class=\"wandb\"><tr><td>epoch</td><td>▁▁▁▁▂▂▂▂▂▂▃▃▃▃▃▄▄▄▄▄▅▅▅▅▅▅▆▆▆▆▆▆▇▇▇▇▇▇██</td></tr><tr><td>train_acc</td><td>▁▄▅▅▆▆▆▇▇▇▇▇▇▇▇▇▇███████████████████████</td></tr><tr><td>train_loss</td><td>█▅▄▄▃▃▃▂▂▂▂▂▂▂▂▂▂▂▁▁▁▁▁▁▁▁▁▁▁▁▁▁▁▁▁▁▁▁▁▁</td></tr></table><br/></div><div class=\"wandb-col\"><h3>Run summary:</h3><br/><table class=\"wandb\"><tr><td>epoch</td><td>50</td></tr><tr><td>train_acc</td><td>97.644</td></tr><tr><td>train_loss</td><td>0.06903</td></tr></table><br/></div></div>"
            ],
            "text/plain": [
              "<IPython.core.display.HTML object>"
            ]
          },
          "metadata": {},
          "output_type": "display_data"
        },
        {
          "data": {
            "text/html": [
              " View run <strong style=\"color:#cdcd00\">playful-sweep-1</strong> at: <a href='https://wandb.ai/kiritgpillai-new-york-university/a100-resnet-hyperparameter-tuning/runs/qjucqsug' target=\"_blank\">https://wandb.ai/kiritgpillai-new-york-university/a100-resnet-hyperparameter-tuning/runs/qjucqsug</a><br> View project at: <a href='https://wandb.ai/kiritgpillai-new-york-university/a100-resnet-hyperparameter-tuning' target=\"_blank\">https://wandb.ai/kiritgpillai-new-york-university/a100-resnet-hyperparameter-tuning</a><br>Synced 5 W&B file(s), 0 media file(s), 0 artifact file(s) and 0 other file(s)"
            ],
            "text/plain": [
              "<IPython.core.display.HTML object>"
            ]
          },
          "metadata": {},
          "output_type": "display_data"
        },
        {
          "data": {
            "text/html": [
              "Find logs at: <code>./wandb/run-20250313_171831-qjucqsug/logs</code>"
            ],
            "text/plain": [
              "<IPython.core.display.HTML object>"
            ]
          },
          "metadata": {},
          "output_type": "display_data"
        },
        {
          "name": "stderr",
          "output_type": "stream",
          "text": [
            "\u001b[34m\u001b[1mwandb\u001b[0m: Agent Starting Run: qx2jiokr with config:\n",
            "\u001b[34m\u001b[1mwandb\u001b[0m: \tbatch_size: 32\n",
            "\u001b[34m\u001b[1mwandb\u001b[0m: \tepochs: 50\n",
            "\u001b[34m\u001b[1mwandb\u001b[0m: \tlearning_rate: 0.0001\n",
            "\u001b[34m\u001b[1mwandb\u001b[0m: \toptimizer: adam\n",
            "\u001b[34m\u001b[1mwandb\u001b[0m: \tweight_decay: 0.0001\n"
          ]
        },
        {
          "data": {
            "text/html": [
              "Tracking run with wandb version 0.19.8"
            ],
            "text/plain": [
              "<IPython.core.display.HTML object>"
            ]
          },
          "metadata": {},
          "output_type": "display_data"
        },
        {
          "data": {
            "text/html": [
              "Run data is saved locally in <code>/content/wandb/run-20250313_172655-qx2jiokr</code>"
            ],
            "text/plain": [
              "<IPython.core.display.HTML object>"
            ]
          },
          "metadata": {},
          "output_type": "display_data"
        },
        {
          "data": {
            "text/html": [
              "Syncing run <strong><a href='https://wandb.ai/kiritgpillai-new-york-university/a100-resnet-hyperparameter-tuning/runs/qx2jiokr' target=\"_blank\">frosty-sweep-2</a></strong> to <a href='https://wandb.ai/kiritgpillai-new-york-university/a100-resnet-hyperparameter-tuning' target=\"_blank\">Weights & Biases</a> (<a href='https://wandb.me/developer-guide' target=\"_blank\">docs</a>)<br>Sweep page: <a href='https://wandb.ai/kiritgpillai-new-york-university/a100-resnet-hyperparameter-tuning/sweeps/mjwr3ao0' target=\"_blank\">https://wandb.ai/kiritgpillai-new-york-university/a100-resnet-hyperparameter-tuning/sweeps/mjwr3ao0</a>"
            ],
            "text/plain": [
              "<IPython.core.display.HTML object>"
            ]
          },
          "metadata": {},
          "output_type": "display_data"
        },
        {
          "data": {
            "text/html": [
              " View project at <a href='https://wandb.ai/kiritgpillai-new-york-university/a100-resnet-hyperparameter-tuning' target=\"_blank\">https://wandb.ai/kiritgpillai-new-york-university/a100-resnet-hyperparameter-tuning</a>"
            ],
            "text/plain": [
              "<IPython.core.display.HTML object>"
            ]
          },
          "metadata": {},
          "output_type": "display_data"
        },
        {
          "data": {
            "text/html": [
              " View sweep at <a href='https://wandb.ai/kiritgpillai-new-york-university/a100-resnet-hyperparameter-tuning/sweeps/mjwr3ao0' target=\"_blank\">https://wandb.ai/kiritgpillai-new-york-university/a100-resnet-hyperparameter-tuning/sweeps/mjwr3ao0</a>"
            ],
            "text/plain": [
              "<IPython.core.display.HTML object>"
            ]
          },
          "metadata": {},
          "output_type": "display_data"
        },
        {
          "data": {
            "text/html": [
              " View run at <a href='https://wandb.ai/kiritgpillai-new-york-university/a100-resnet-hyperparameter-tuning/runs/qx2jiokr' target=\"_blank\">https://wandb.ai/kiritgpillai-new-york-university/a100-resnet-hyperparameter-tuning/runs/qx2jiokr</a>"
            ],
            "text/plain": [
              "<IPython.core.display.HTML object>"
            ]
          },
          "metadata": {},
          "output_type": "display_data"
        },
        {
          "data": {
            "text/html": [],
            "text/plain": [
              "<IPython.core.display.HTML object>"
            ]
          },
          "metadata": {},
          "output_type": "display_data"
        },
        {
          "data": {
            "text/html": [
              "<br>    <style><br>        .wandb-row {<br>            display: flex;<br>            flex-direction: row;<br>            flex-wrap: wrap;<br>            justify-content: flex-start;<br>            width: 100%;<br>        }<br>        .wandb-col {<br>            display: flex;<br>            flex-direction: column;<br>            flex-basis: 100%;<br>            flex: 1;<br>            padding: 10px;<br>        }<br>    </style><br><div class=\"wandb-row\"><div class=\"wandb-col\"><h3>Run history:</h3><br/><table class=\"wandb\"><tr><td>epoch</td><td>▁▁▁▁▂▂▂▂▂▃▃▃▃▃▃▄▄▄▄▄▅▅▅▅▅▆▆▆▆▆▆▇▇▇▇▇▇███</td></tr><tr><td>train_acc</td><td>▁▅▆▆▆▇▇▇█▇█▇▇▇▇▇█▇█▇▇███▇███▇▇█▇██▇█▇█▇█</td></tr><tr><td>train_loss</td><td>█▅▃▃▃▂▂▂▂▂▁▁▂▂▂▂▁▂▁▂▂▁▁▁▂▂▂▁▁▁▁▁▁▁▁▁▁▁▂▁</td></tr></table><br/></div><div class=\"wandb-col\"><h3>Run summary:</h3><br/><table class=\"wandb\"><tr><td>epoch</td><td>50</td></tr><tr><td>train_acc</td><td>99.284</td></tr><tr><td>train_loss</td><td>0.02272</td></tr></table><br/></div></div>"
            ],
            "text/plain": [
              "<IPython.core.display.HTML object>"
            ]
          },
          "metadata": {},
          "output_type": "display_data"
        },
        {
          "data": {
            "text/html": [
              " View run <strong style=\"color:#cdcd00\">frosty-sweep-2</strong> at: <a href='https://wandb.ai/kiritgpillai-new-york-university/a100-resnet-hyperparameter-tuning/runs/qx2jiokr' target=\"_blank\">https://wandb.ai/kiritgpillai-new-york-university/a100-resnet-hyperparameter-tuning/runs/qx2jiokr</a><br> View project at: <a href='https://wandb.ai/kiritgpillai-new-york-university/a100-resnet-hyperparameter-tuning' target=\"_blank\">https://wandb.ai/kiritgpillai-new-york-university/a100-resnet-hyperparameter-tuning</a><br>Synced 5 W&B file(s), 0 media file(s), 0 artifact file(s) and 0 other file(s)"
            ],
            "text/plain": [
              "<IPython.core.display.HTML object>"
            ]
          },
          "metadata": {},
          "output_type": "display_data"
        },
        {
          "data": {
            "text/html": [
              "Find logs at: <code>./wandb/run-20250313_172655-qx2jiokr/logs</code>"
            ],
            "text/plain": [
              "<IPython.core.display.HTML object>"
            ]
          },
          "metadata": {},
          "output_type": "display_data"
        },
        {
          "name": "stderr",
          "output_type": "stream",
          "text": [
            "\u001b[34m\u001b[1mwandb\u001b[0m: Agent Starting Run: 70s11drz with config:\n",
            "\u001b[34m\u001b[1mwandb\u001b[0m: \tbatch_size: 32\n",
            "\u001b[34m\u001b[1mwandb\u001b[0m: \tepochs: 50\n",
            "\u001b[34m\u001b[1mwandb\u001b[0m: \tlearning_rate: 0.0005\n",
            "\u001b[34m\u001b[1mwandb\u001b[0m: \toptimizer: adadelta\n",
            "\u001b[34m\u001b[1mwandb\u001b[0m: \tweight_decay: 0.0001\n"
          ]
        },
        {
          "data": {
            "text/html": [
              "Tracking run with wandb version 0.19.8"
            ],
            "text/plain": [
              "<IPython.core.display.HTML object>"
            ]
          },
          "metadata": {},
          "output_type": "display_data"
        },
        {
          "data": {
            "text/html": [
              "Run data is saved locally in <code>/content/wandb/run-20250313_174728-70s11drz</code>"
            ],
            "text/plain": [
              "<IPython.core.display.HTML object>"
            ]
          },
          "metadata": {},
          "output_type": "display_data"
        },
        {
          "data": {
            "text/html": [
              "Syncing run <strong><a href='https://wandb.ai/kiritgpillai-new-york-university/a100-resnet-hyperparameter-tuning/runs/70s11drz' target=\"_blank\">different-sweep-3</a></strong> to <a href='https://wandb.ai/kiritgpillai-new-york-university/a100-resnet-hyperparameter-tuning' target=\"_blank\">Weights & Biases</a> (<a href='https://wandb.me/developer-guide' target=\"_blank\">docs</a>)<br>Sweep page: <a href='https://wandb.ai/kiritgpillai-new-york-university/a100-resnet-hyperparameter-tuning/sweeps/mjwr3ao0' target=\"_blank\">https://wandb.ai/kiritgpillai-new-york-university/a100-resnet-hyperparameter-tuning/sweeps/mjwr3ao0</a>"
            ],
            "text/plain": [
              "<IPython.core.display.HTML object>"
            ]
          },
          "metadata": {},
          "output_type": "display_data"
        },
        {
          "data": {
            "text/html": [
              " View project at <a href='https://wandb.ai/kiritgpillai-new-york-university/a100-resnet-hyperparameter-tuning' target=\"_blank\">https://wandb.ai/kiritgpillai-new-york-university/a100-resnet-hyperparameter-tuning</a>"
            ],
            "text/plain": [
              "<IPython.core.display.HTML object>"
            ]
          },
          "metadata": {},
          "output_type": "display_data"
        },
        {
          "data": {
            "text/html": [
              " View sweep at <a href='https://wandb.ai/kiritgpillai-new-york-university/a100-resnet-hyperparameter-tuning/sweeps/mjwr3ao0' target=\"_blank\">https://wandb.ai/kiritgpillai-new-york-university/a100-resnet-hyperparameter-tuning/sweeps/mjwr3ao0</a>"
            ],
            "text/plain": [
              "<IPython.core.display.HTML object>"
            ]
          },
          "metadata": {},
          "output_type": "display_data"
        },
        {
          "data": {
            "text/html": [
              " View run at <a href='https://wandb.ai/kiritgpillai-new-york-university/a100-resnet-hyperparameter-tuning/runs/70s11drz' target=\"_blank\">https://wandb.ai/kiritgpillai-new-york-university/a100-resnet-hyperparameter-tuning/runs/70s11drz</a>"
            ],
            "text/plain": [
              "<IPython.core.display.HTML object>"
            ]
          },
          "metadata": {},
          "output_type": "display_data"
        },
        {
          "data": {
            "text/html": [],
            "text/plain": [
              "<IPython.core.display.HTML object>"
            ]
          },
          "metadata": {},
          "output_type": "display_data"
        },
        {
          "data": {
            "text/html": [
              "<br>    <style><br>        .wandb-row {<br>            display: flex;<br>            flex-direction: row;<br>            flex-wrap: wrap;<br>            justify-content: flex-start;<br>            width: 100%;<br>        }<br>        .wandb-col {<br>            display: flex;<br>            flex-direction: column;<br>            flex-basis: 100%;<br>            flex: 1;<br>            padding: 10px;<br>        }<br>    </style><br><div class=\"wandb-row\"><div class=\"wandb-col\"><h3>Run history:</h3><br/><table class=\"wandb\"><tr><td>epoch</td><td>▁▁▁▁▂▂▂▂▂▂▃▃▃▃▃▄▄▄▄▄▅▅▅▅▅▅▆▆▆▆▆▇▇▇▇▇▇███</td></tr><tr><td>train_acc</td><td>▁▁▂▂▃▄▄▅▄▅▅▅▆▅▆▆▆▆▆▆▆▇▇▇▇▇▇▇▇▇▇▇▇▇▇█▇███</td></tr><tr><td>train_loss</td><td>█▇▇▇▆▅▅▄▄▄▄▃▃▃▃▃▃▃▃▂▂▂▂▂▂▂▂▂▂▂▂▂▂▂▂▁▁▁▁▁</td></tr></table><br/></div><div class=\"wandb-col\"><h3>Run summary:</h3><br/><table class=\"wandb\"><tr><td>epoch</td><td>50</td></tr><tr><td>train_acc</td><td>96.57</td></tr><tr><td>train_loss</td><td>0.10073</td></tr></table><br/></div></div>"
            ],
            "text/plain": [
              "<IPython.core.display.HTML object>"
            ]
          },
          "metadata": {},
          "output_type": "display_data"
        },
        {
          "data": {
            "text/html": [
              " View run <strong style=\"color:#cdcd00\">different-sweep-3</strong> at: <a href='https://wandb.ai/kiritgpillai-new-york-university/a100-resnet-hyperparameter-tuning/runs/70s11drz' target=\"_blank\">https://wandb.ai/kiritgpillai-new-york-university/a100-resnet-hyperparameter-tuning/runs/70s11drz</a><br> View project at: <a href='https://wandb.ai/kiritgpillai-new-york-university/a100-resnet-hyperparameter-tuning' target=\"_blank\">https://wandb.ai/kiritgpillai-new-york-university/a100-resnet-hyperparameter-tuning</a><br>Synced 5 W&B file(s), 0 media file(s), 0 artifact file(s) and 0 other file(s)"
            ],
            "text/plain": [
              "<IPython.core.display.HTML object>"
            ]
          },
          "metadata": {},
          "output_type": "display_data"
        },
        {
          "data": {
            "text/html": [
              "Find logs at: <code>./wandb/run-20250313_174728-70s11drz/logs</code>"
            ],
            "text/plain": [
              "<IPython.core.display.HTML object>"
            ]
          },
          "metadata": {},
          "output_type": "display_data"
        },
        {
          "name": "stderr",
          "output_type": "stream",
          "text": [
            "\u001b[34m\u001b[1mwandb\u001b[0m: Agent Starting Run: czk1ti9w with config:\n",
            "\u001b[34m\u001b[1mwandb\u001b[0m: \tbatch_size: 128\n",
            "\u001b[34m\u001b[1mwandb\u001b[0m: \tepochs: 50\n",
            "\u001b[34m\u001b[1mwandb\u001b[0m: \tlearning_rate: 0.0005\n",
            "\u001b[34m\u001b[1mwandb\u001b[0m: \toptimizer: adam\n",
            "\u001b[34m\u001b[1mwandb\u001b[0m: \tweight_decay: 0\n"
          ]
        },
        {
          "data": {
            "text/html": [
              "Tracking run with wandb version 0.19.8"
            ],
            "text/plain": [
              "<IPython.core.display.HTML object>"
            ]
          },
          "metadata": {},
          "output_type": "display_data"
        },
        {
          "data": {
            "text/html": [
              "Run data is saved locally in <code>/content/wandb/run-20250313_180806-czk1ti9w</code>"
            ],
            "text/plain": [
              "<IPython.core.display.HTML object>"
            ]
          },
          "metadata": {},
          "output_type": "display_data"
        },
        {
          "data": {
            "text/html": [
              "Syncing run <strong><a href='https://wandb.ai/kiritgpillai-new-york-university/a100-resnet-hyperparameter-tuning/runs/czk1ti9w' target=\"_blank\">happy-sweep-4</a></strong> to <a href='https://wandb.ai/kiritgpillai-new-york-university/a100-resnet-hyperparameter-tuning' target=\"_blank\">Weights & Biases</a> (<a href='https://wandb.me/developer-guide' target=\"_blank\">docs</a>)<br>Sweep page: <a href='https://wandb.ai/kiritgpillai-new-york-university/a100-resnet-hyperparameter-tuning/sweeps/mjwr3ao0' target=\"_blank\">https://wandb.ai/kiritgpillai-new-york-university/a100-resnet-hyperparameter-tuning/sweeps/mjwr3ao0</a>"
            ],
            "text/plain": [
              "<IPython.core.display.HTML object>"
            ]
          },
          "metadata": {},
          "output_type": "display_data"
        },
        {
          "data": {
            "text/html": [
              " View project at <a href='https://wandb.ai/kiritgpillai-new-york-university/a100-resnet-hyperparameter-tuning' target=\"_blank\">https://wandb.ai/kiritgpillai-new-york-university/a100-resnet-hyperparameter-tuning</a>"
            ],
            "text/plain": [
              "<IPython.core.display.HTML object>"
            ]
          },
          "metadata": {},
          "output_type": "display_data"
        },
        {
          "data": {
            "text/html": [
              " View sweep at <a href='https://wandb.ai/kiritgpillai-new-york-university/a100-resnet-hyperparameter-tuning/sweeps/mjwr3ao0' target=\"_blank\">https://wandb.ai/kiritgpillai-new-york-university/a100-resnet-hyperparameter-tuning/sweeps/mjwr3ao0</a>"
            ],
            "text/plain": [
              "<IPython.core.display.HTML object>"
            ]
          },
          "metadata": {},
          "output_type": "display_data"
        },
        {
          "data": {
            "text/html": [
              " View run at <a href='https://wandb.ai/kiritgpillai-new-york-university/a100-resnet-hyperparameter-tuning/runs/czk1ti9w' target=\"_blank\">https://wandb.ai/kiritgpillai-new-york-university/a100-resnet-hyperparameter-tuning/runs/czk1ti9w</a>"
            ],
            "text/plain": [
              "<IPython.core.display.HTML object>"
            ]
          },
          "metadata": {},
          "output_type": "display_data"
        },
        {
          "data": {
            "text/html": [],
            "text/plain": [
              "<IPython.core.display.HTML object>"
            ]
          },
          "metadata": {},
          "output_type": "display_data"
        },
        {
          "data": {
            "text/html": [
              "<br>    <style><br>        .wandb-row {<br>            display: flex;<br>            flex-direction: row;<br>            flex-wrap: wrap;<br>            justify-content: flex-start;<br>            width: 100%;<br>        }<br>        .wandb-col {<br>            display: flex;<br>            flex-direction: column;<br>            flex-basis: 100%;<br>            flex: 1;<br>            padding: 10px;<br>        }<br>    </style><br><div class=\"wandb-row\"><div class=\"wandb-col\"><h3>Run history:</h3><br/><table class=\"wandb\"><tr><td>epoch</td><td>▁▁▁▂▂▂▂▂▂▃▃▃▃▃▄▄▄▄▄▄▅▅▅▅▅▆▆▆▆▆▆▇▇▇▇▇▇███</td></tr><tr><td>train_acc</td><td>▁▄▅▄▄▅▇▆▅▅▇▇▆▆▆▇▆▆▇▇▆▇▇▇▇▇▇▆▇█▇█▇▇▇▇██▇█</td></tr><tr><td>train_loss</td><td>█▅▄▅▄▄▂▃▄▄▂▂▂▃▃▃▃▂▂▁▂▂▂▂▁▂▂▂▁▁▂▁▂▂▂▁▁▁▁▁</td></tr></table><br/></div><div class=\"wandb-col\"><h3>Run summary:</h3><br/><table class=\"wandb\"><tr><td>epoch</td><td>50</td></tr><tr><td>train_acc</td><td>99.568</td></tr><tr><td>train_loss</td><td>0.01184</td></tr></table><br/></div></div>"
            ],
            "text/plain": [
              "<IPython.core.display.HTML object>"
            ]
          },
          "metadata": {},
          "output_type": "display_data"
        },
        {
          "data": {
            "text/html": [
              " View run <strong style=\"color:#cdcd00\">happy-sweep-4</strong> at: <a href='https://wandb.ai/kiritgpillai-new-york-university/a100-resnet-hyperparameter-tuning/runs/czk1ti9w' target=\"_blank\">https://wandb.ai/kiritgpillai-new-york-university/a100-resnet-hyperparameter-tuning/runs/czk1ti9w</a><br> View project at: <a href='https://wandb.ai/kiritgpillai-new-york-university/a100-resnet-hyperparameter-tuning' target=\"_blank\">https://wandb.ai/kiritgpillai-new-york-university/a100-resnet-hyperparameter-tuning</a><br>Synced 5 W&B file(s), 0 media file(s), 0 artifact file(s) and 0 other file(s)"
            ],
            "text/plain": [
              "<IPython.core.display.HTML object>"
            ]
          },
          "metadata": {},
          "output_type": "display_data"
        },
        {
          "data": {
            "text/html": [
              "Find logs at: <code>./wandb/run-20250313_180806-czk1ti9w/logs</code>"
            ],
            "text/plain": [
              "<IPython.core.display.HTML object>"
            ]
          },
          "metadata": {},
          "output_type": "display_data"
        },
        {
          "name": "stderr",
          "output_type": "stream",
          "text": [
            "\u001b[34m\u001b[1mwandb\u001b[0m: Agent Starting Run: p145z6hk with config:\n",
            "\u001b[34m\u001b[1mwandb\u001b[0m: \tbatch_size: 32\n",
            "\u001b[34m\u001b[1mwandb\u001b[0m: \tepochs: 50\n",
            "\u001b[34m\u001b[1mwandb\u001b[0m: \tlearning_rate: 0.0001\n",
            "\u001b[34m\u001b[1mwandb\u001b[0m: \toptimizer: rmsprop\n",
            "\u001b[34m\u001b[1mwandb\u001b[0m: \tweight_decay: 0.0001\n"
          ]
        },
        {
          "data": {
            "text/html": [
              "Tracking run with wandb version 0.19.8"
            ],
            "text/plain": [
              "<IPython.core.display.HTML object>"
            ]
          },
          "metadata": {},
          "output_type": "display_data"
        },
        {
          "data": {
            "text/html": [
              "Run data is saved locally in <code>/content/wandb/run-20250313_181629-p145z6hk</code>"
            ],
            "text/plain": [
              "<IPython.core.display.HTML object>"
            ]
          },
          "metadata": {},
          "output_type": "display_data"
        },
        {
          "data": {
            "text/html": [
              "Syncing run <strong><a href='https://wandb.ai/kiritgpillai-new-york-university/a100-resnet-hyperparameter-tuning/runs/p145z6hk' target=\"_blank\">divine-sweep-5</a></strong> to <a href='https://wandb.ai/kiritgpillai-new-york-university/a100-resnet-hyperparameter-tuning' target=\"_blank\">Weights & Biases</a> (<a href='https://wandb.me/developer-guide' target=\"_blank\">docs</a>)<br>Sweep page: <a href='https://wandb.ai/kiritgpillai-new-york-university/a100-resnet-hyperparameter-tuning/sweeps/mjwr3ao0' target=\"_blank\">https://wandb.ai/kiritgpillai-new-york-university/a100-resnet-hyperparameter-tuning/sweeps/mjwr3ao0</a>"
            ],
            "text/plain": [
              "<IPython.core.display.HTML object>"
            ]
          },
          "metadata": {},
          "output_type": "display_data"
        },
        {
          "data": {
            "text/html": [
              " View project at <a href='https://wandb.ai/kiritgpillai-new-york-university/a100-resnet-hyperparameter-tuning' target=\"_blank\">https://wandb.ai/kiritgpillai-new-york-university/a100-resnet-hyperparameter-tuning</a>"
            ],
            "text/plain": [
              "<IPython.core.display.HTML object>"
            ]
          },
          "metadata": {},
          "output_type": "display_data"
        },
        {
          "data": {
            "text/html": [
              " View sweep at <a href='https://wandb.ai/kiritgpillai-new-york-university/a100-resnet-hyperparameter-tuning/sweeps/mjwr3ao0' target=\"_blank\">https://wandb.ai/kiritgpillai-new-york-university/a100-resnet-hyperparameter-tuning/sweeps/mjwr3ao0</a>"
            ],
            "text/plain": [
              "<IPython.core.display.HTML object>"
            ]
          },
          "metadata": {},
          "output_type": "display_data"
        },
        {
          "data": {
            "text/html": [
              " View run at <a href='https://wandb.ai/kiritgpillai-new-york-university/a100-resnet-hyperparameter-tuning/runs/p145z6hk' target=\"_blank\">https://wandb.ai/kiritgpillai-new-york-university/a100-resnet-hyperparameter-tuning/runs/p145z6hk</a>"
            ],
            "text/plain": [
              "<IPython.core.display.HTML object>"
            ]
          },
          "metadata": {},
          "output_type": "display_data"
        },
        {
          "data": {
            "text/html": [],
            "text/plain": [
              "<IPython.core.display.HTML object>"
            ]
          },
          "metadata": {},
          "output_type": "display_data"
        },
        {
          "data": {
            "text/html": [
              "<br>    <style><br>        .wandb-row {<br>            display: flex;<br>            flex-direction: row;<br>            flex-wrap: wrap;<br>            justify-content: flex-start;<br>            width: 100%;<br>        }<br>        .wandb-col {<br>            display: flex;<br>            flex-direction: column;<br>            flex-basis: 100%;<br>            flex: 1;<br>            padding: 10px;<br>        }<br>    </style><br><div class=\"wandb-row\"><div class=\"wandb-col\"><h3>Run history:</h3><br/><table class=\"wandb\"><tr><td>epoch</td><td>▁▁▁▁▂▂▂▂▂▃▃▃▃▃▃▄▄▄▄▄▅▅▅▅▅▆▆▆▆▆▆▇▇▇▇▇▇███</td></tr><tr><td>train_acc</td><td>▁▅▄▇▆▅▇▆▇▇█▆▇█▄▆█▆▇▅▆▇▇▆▆▅▆▇▅▄▅▅▃▅▅▅▅▃▄▃</td></tr><tr><td>train_loss</td><td>█▄▃▂▂▃▁▁▂▂▁▁▂▂▂▁▃▂▃▃▃▄▄▃▄▄▅▅▃▅▇▅▅▆▅▇▅▆▇▇</td></tr></table><br/></div><div class=\"wandb-col\"><h3>Run summary:</h3><br/><table class=\"wandb\"><tr><td>epoch</td><td>50</td></tr><tr><td>train_acc</td><td>99.606</td></tr><tr><td>train_loss</td><td>0.01333</td></tr></table><br/></div></div>"
            ],
            "text/plain": [
              "<IPython.core.display.HTML object>"
            ]
          },
          "metadata": {},
          "output_type": "display_data"
        },
        {
          "data": {
            "text/html": [
              " View run <strong style=\"color:#cdcd00\">divine-sweep-5</strong> at: <a href='https://wandb.ai/kiritgpillai-new-york-university/a100-resnet-hyperparameter-tuning/runs/p145z6hk' target=\"_blank\">https://wandb.ai/kiritgpillai-new-york-university/a100-resnet-hyperparameter-tuning/runs/p145z6hk</a><br> View project at: <a href='https://wandb.ai/kiritgpillai-new-york-university/a100-resnet-hyperparameter-tuning' target=\"_blank\">https://wandb.ai/kiritgpillai-new-york-university/a100-resnet-hyperparameter-tuning</a><br>Synced 5 W&B file(s), 0 media file(s), 0 artifact file(s) and 0 other file(s)"
            ],
            "text/plain": [
              "<IPython.core.display.HTML object>"
            ]
          },
          "metadata": {},
          "output_type": "display_data"
        },
        {
          "data": {
            "text/html": [
              "Find logs at: <code>./wandb/run-20250313_181629-p145z6hk/logs</code>"
            ],
            "text/plain": [
              "<IPython.core.display.HTML object>"
            ]
          },
          "metadata": {},
          "output_type": "display_data"
        },
        {
          "name": "stderr",
          "output_type": "stream",
          "text": [
            "\u001b[34m\u001b[1mwandb\u001b[0m: Agent Starting Run: 2wmqycof with config:\n",
            "\u001b[34m\u001b[1mwandb\u001b[0m: \tbatch_size: 64\n",
            "\u001b[34m\u001b[1mwandb\u001b[0m: \tepochs: 50\n",
            "\u001b[34m\u001b[1mwandb\u001b[0m: \tlearning_rate: 0.001\n",
            "\u001b[34m\u001b[1mwandb\u001b[0m: \toptimizer: adam\n",
            "\u001b[34m\u001b[1mwandb\u001b[0m: \tweight_decay: 0\n"
          ]
        },
        {
          "data": {
            "text/html": [
              "Tracking run with wandb version 0.19.8"
            ],
            "text/plain": [
              "<IPython.core.display.HTML object>"
            ]
          },
          "metadata": {},
          "output_type": "display_data"
        },
        {
          "data": {
            "text/html": [
              "Run data is saved locally in <code>/content/wandb/run-20250313_183719-2wmqycof</code>"
            ],
            "text/plain": [
              "<IPython.core.display.HTML object>"
            ]
          },
          "metadata": {},
          "output_type": "display_data"
        },
        {
          "data": {
            "text/html": [
              "Syncing run <strong><a href='https://wandb.ai/kiritgpillai-new-york-university/a100-resnet-hyperparameter-tuning/runs/2wmqycof' target=\"_blank\">dutiful-sweep-6</a></strong> to <a href='https://wandb.ai/kiritgpillai-new-york-university/a100-resnet-hyperparameter-tuning' target=\"_blank\">Weights & Biases</a> (<a href='https://wandb.me/developer-guide' target=\"_blank\">docs</a>)<br>Sweep page: <a href='https://wandb.ai/kiritgpillai-new-york-university/a100-resnet-hyperparameter-tuning/sweeps/mjwr3ao0' target=\"_blank\">https://wandb.ai/kiritgpillai-new-york-university/a100-resnet-hyperparameter-tuning/sweeps/mjwr3ao0</a>"
            ],
            "text/plain": [
              "<IPython.core.display.HTML object>"
            ]
          },
          "metadata": {},
          "output_type": "display_data"
        },
        {
          "data": {
            "text/html": [
              " View project at <a href='https://wandb.ai/kiritgpillai-new-york-university/a100-resnet-hyperparameter-tuning' target=\"_blank\">https://wandb.ai/kiritgpillai-new-york-university/a100-resnet-hyperparameter-tuning</a>"
            ],
            "text/plain": [
              "<IPython.core.display.HTML object>"
            ]
          },
          "metadata": {},
          "output_type": "display_data"
        },
        {
          "data": {
            "text/html": [
              " View sweep at <a href='https://wandb.ai/kiritgpillai-new-york-university/a100-resnet-hyperparameter-tuning/sweeps/mjwr3ao0' target=\"_blank\">https://wandb.ai/kiritgpillai-new-york-university/a100-resnet-hyperparameter-tuning/sweeps/mjwr3ao0</a>"
            ],
            "text/plain": [
              "<IPython.core.display.HTML object>"
            ]
          },
          "metadata": {},
          "output_type": "display_data"
        },
        {
          "data": {
            "text/html": [
              " View run at <a href='https://wandb.ai/kiritgpillai-new-york-university/a100-resnet-hyperparameter-tuning/runs/2wmqycof' target=\"_blank\">https://wandb.ai/kiritgpillai-new-york-university/a100-resnet-hyperparameter-tuning/runs/2wmqycof</a>"
            ],
            "text/plain": [
              "<IPython.core.display.HTML object>"
            ]
          },
          "metadata": {},
          "output_type": "display_data"
        },
        {
          "data": {
            "text/html": [],
            "text/plain": [
              "<IPython.core.display.HTML object>"
            ]
          },
          "metadata": {},
          "output_type": "display_data"
        },
        {
          "data": {
            "text/html": [
              "<br>    <style><br>        .wandb-row {<br>            display: flex;<br>            flex-direction: row;<br>            flex-wrap: wrap;<br>            justify-content: flex-start;<br>            width: 100%;<br>        }<br>        .wandb-col {<br>            display: flex;<br>            flex-direction: column;<br>            flex-basis: 100%;<br>            flex: 1;<br>            padding: 10px;<br>        }<br>    </style><br><div class=\"wandb-row\"><div class=\"wandb-col\"><h3>Run history:</h3><br/><table class=\"wandb\"><tr><td>epoch</td><td>▁▁▁▁▂▂▂▂▂▂▃▃▃▃▃▄▄▄▄▄▅▅▅▅▅▅▆▆▆▆▆▆▇▇▇▇▇███</td></tr><tr><td>train_acc</td><td>▁▂▃▃▃▄▅▅▅▅▅▆▆▆▆▆▇▇▆▇▇▇▇▇▇▇▇▇▇█▇█▇▇█▇████</td></tr><tr><td>train_loss</td><td>█▇▆▆▅▄▄▄▄▄▃▃▃▃▃▂▂▂▂▂▂▂▂▁▂▂▂▂▁▂▁▁▁▁▁▁▁▁▁▁</td></tr></table><br/></div><div class=\"wandb-col\"><h3>Run summary:</h3><br/><table class=\"wandb\"><tr><td>epoch</td><td>50</td></tr><tr><td>train_acc</td><td>99.282</td></tr><tr><td>train_loss</td><td>0.02219</td></tr></table><br/></div></div>"
            ],
            "text/plain": [
              "<IPython.core.display.HTML object>"
            ]
          },
          "metadata": {},
          "output_type": "display_data"
        },
        {
          "data": {
            "text/html": [
              " View run <strong style=\"color:#cdcd00\">dutiful-sweep-6</strong> at: <a href='https://wandb.ai/kiritgpillai-new-york-university/a100-resnet-hyperparameter-tuning/runs/2wmqycof' target=\"_blank\">https://wandb.ai/kiritgpillai-new-york-university/a100-resnet-hyperparameter-tuning/runs/2wmqycof</a><br> View project at: <a href='https://wandb.ai/kiritgpillai-new-york-university/a100-resnet-hyperparameter-tuning' target=\"_blank\">https://wandb.ai/kiritgpillai-new-york-university/a100-resnet-hyperparameter-tuning</a><br>Synced 5 W&B file(s), 0 media file(s), 0 artifact file(s) and 0 other file(s)"
            ],
            "text/plain": [
              "<IPython.core.display.HTML object>"
            ]
          },
          "metadata": {},
          "output_type": "display_data"
        },
        {
          "data": {
            "text/html": [
              "Find logs at: <code>./wandb/run-20250313_183719-2wmqycof/logs</code>"
            ],
            "text/plain": [
              "<IPython.core.display.HTML object>"
            ]
          },
          "metadata": {},
          "output_type": "display_data"
        },
        {
          "name": "stderr",
          "output_type": "stream",
          "text": [
            "\u001b[34m\u001b[1mwandb\u001b[0m: Agent Starting Run: 6gfhfspw with config:\n",
            "\u001b[34m\u001b[1mwandb\u001b[0m: \tbatch_size: 32\n",
            "\u001b[34m\u001b[1mwandb\u001b[0m: \tepochs: 50\n",
            "\u001b[34m\u001b[1mwandb\u001b[0m: \tlearning_rate: 0.001\n",
            "\u001b[34m\u001b[1mwandb\u001b[0m: \toptimizer: rmsprop\n",
            "\u001b[34m\u001b[1mwandb\u001b[0m: \tweight_decay: 0\n"
          ]
        },
        {
          "data": {
            "text/html": [
              "Tracking run with wandb version 0.19.8"
            ],
            "text/plain": [
              "<IPython.core.display.HTML object>"
            ]
          },
          "metadata": {},
          "output_type": "display_data"
        },
        {
          "data": {
            "text/html": [
              "Run data is saved locally in <code>/content/wandb/run-20250313_184908-6gfhfspw</code>"
            ],
            "text/plain": [
              "<IPython.core.display.HTML object>"
            ]
          },
          "metadata": {},
          "output_type": "display_data"
        },
        {
          "data": {
            "text/html": [
              "Syncing run <strong><a href='https://wandb.ai/kiritgpillai-new-york-university/a100-resnet-hyperparameter-tuning/runs/6gfhfspw' target=\"_blank\">iconic-sweep-7</a></strong> to <a href='https://wandb.ai/kiritgpillai-new-york-university/a100-resnet-hyperparameter-tuning' target=\"_blank\">Weights & Biases</a> (<a href='https://wandb.me/developer-guide' target=\"_blank\">docs</a>)<br>Sweep page: <a href='https://wandb.ai/kiritgpillai-new-york-university/a100-resnet-hyperparameter-tuning/sweeps/mjwr3ao0' target=\"_blank\">https://wandb.ai/kiritgpillai-new-york-university/a100-resnet-hyperparameter-tuning/sweeps/mjwr3ao0</a>"
            ],
            "text/plain": [
              "<IPython.core.display.HTML object>"
            ]
          },
          "metadata": {},
          "output_type": "display_data"
        },
        {
          "data": {
            "text/html": [
              " View project at <a href='https://wandb.ai/kiritgpillai-new-york-university/a100-resnet-hyperparameter-tuning' target=\"_blank\">https://wandb.ai/kiritgpillai-new-york-university/a100-resnet-hyperparameter-tuning</a>"
            ],
            "text/plain": [
              "<IPython.core.display.HTML object>"
            ]
          },
          "metadata": {},
          "output_type": "display_data"
        },
        {
          "data": {
            "text/html": [
              " View sweep at <a href='https://wandb.ai/kiritgpillai-new-york-university/a100-resnet-hyperparameter-tuning/sweeps/mjwr3ao0' target=\"_blank\">https://wandb.ai/kiritgpillai-new-york-university/a100-resnet-hyperparameter-tuning/sweeps/mjwr3ao0</a>"
            ],
            "text/plain": [
              "<IPython.core.display.HTML object>"
            ]
          },
          "metadata": {},
          "output_type": "display_data"
        },
        {
          "data": {
            "text/html": [
              " View run at <a href='https://wandb.ai/kiritgpillai-new-york-university/a100-resnet-hyperparameter-tuning/runs/6gfhfspw' target=\"_blank\">https://wandb.ai/kiritgpillai-new-york-university/a100-resnet-hyperparameter-tuning/runs/6gfhfspw</a>"
            ],
            "text/plain": [
              "<IPython.core.display.HTML object>"
            ]
          },
          "metadata": {},
          "output_type": "display_data"
        },
        {
          "data": {
            "text/html": [],
            "text/plain": [
              "<IPython.core.display.HTML object>"
            ]
          },
          "metadata": {},
          "output_type": "display_data"
        },
        {
          "data": {
            "text/html": [
              "<br>    <style><br>        .wandb-row {<br>            display: flex;<br>            flex-direction: row;<br>            flex-wrap: wrap;<br>            justify-content: flex-start;<br>            width: 100%;<br>        }<br>        .wandb-col {<br>            display: flex;<br>            flex-direction: column;<br>            flex-basis: 100%;<br>            flex: 1;<br>            padding: 10px;<br>        }<br>    </style><br><div class=\"wandb-row\"><div class=\"wandb-col\"><h3>Run history:</h3><br/><table class=\"wandb\"><tr><td>epoch</td><td>▁▁▁▁▂▂▂▂▂▂▃▃▃▃▃▄▄▄▄▄▄▅▅▅▅▅▅▆▆▆▆▆▇▇▇▇▇███</td></tr><tr><td>train_acc</td><td>▁▂▂▂▃▃▄▃▄▄▄▄▄▅▅▅▅▆▅▆▆▆▆▆▆▇▆▇▇▇█▇▇██▇███▇</td></tr><tr><td>train_loss</td><td>█▇▇▇▆▆▆▆▅▅▆▅▄▄▅▃▄▃▄▃▃▃▃▃▂▂▃▂▂▃▂▂▂▂▂▂▂▂▁▂</td></tr></table><br/></div><div class=\"wandb-col\"><h3>Run summary:</h3><br/><table class=\"wandb\"><tr><td>epoch</td><td>50</td></tr><tr><td>train_acc</td><td>99.256</td></tr><tr><td>train_loss</td><td>0.02135</td></tr></table><br/></div></div>"
            ],
            "text/plain": [
              "<IPython.core.display.HTML object>"
            ]
          },
          "metadata": {},
          "output_type": "display_data"
        },
        {
          "data": {
            "text/html": [
              " View run <strong style=\"color:#cdcd00\">iconic-sweep-7</strong> at: <a href='https://wandb.ai/kiritgpillai-new-york-university/a100-resnet-hyperparameter-tuning/runs/6gfhfspw' target=\"_blank\">https://wandb.ai/kiritgpillai-new-york-university/a100-resnet-hyperparameter-tuning/runs/6gfhfspw</a><br> View project at: <a href='https://wandb.ai/kiritgpillai-new-york-university/a100-resnet-hyperparameter-tuning' target=\"_blank\">https://wandb.ai/kiritgpillai-new-york-university/a100-resnet-hyperparameter-tuning</a><br>Synced 5 W&B file(s), 0 media file(s), 0 artifact file(s) and 0 other file(s)"
            ],
            "text/plain": [
              "<IPython.core.display.HTML object>"
            ]
          },
          "metadata": {},
          "output_type": "display_data"
        },
        {
          "data": {
            "text/html": [
              "Find logs at: <code>./wandb/run-20250313_184908-6gfhfspw/logs</code>"
            ],
            "text/plain": [
              "<IPython.core.display.HTML object>"
            ]
          },
          "metadata": {},
          "output_type": "display_data"
        },
        {
          "name": "stderr",
          "output_type": "stream",
          "text": [
            "\u001b[34m\u001b[1mwandb\u001b[0m: Agent Starting Run: k4gi5yzr with config:\n",
            "\u001b[34m\u001b[1mwandb\u001b[0m: \tbatch_size: 32\n",
            "\u001b[34m\u001b[1mwandb\u001b[0m: \tepochs: 50\n",
            "\u001b[34m\u001b[1mwandb\u001b[0m: \tlearning_rate: 0.001\n",
            "\u001b[34m\u001b[1mwandb\u001b[0m: \toptimizer: rmsprop\n",
            "\u001b[34m\u001b[1mwandb\u001b[0m: \tweight_decay: 0.001\n"
          ]
        },
        {
          "data": {
            "text/html": [
              "Tracking run with wandb version 0.19.8"
            ],
            "text/plain": [
              "<IPython.core.display.HTML object>"
            ]
          },
          "metadata": {},
          "output_type": "display_data"
        },
        {
          "data": {
            "text/html": [
              "Run data is saved locally in <code>/content/wandb/run-20250313_190929-k4gi5yzr</code>"
            ],
            "text/plain": [
              "<IPython.core.display.HTML object>"
            ]
          },
          "metadata": {},
          "output_type": "display_data"
        },
        {
          "data": {
            "text/html": [
              "Syncing run <strong><a href='https://wandb.ai/kiritgpillai-new-york-university/a100-resnet-hyperparameter-tuning/runs/k4gi5yzr' target=\"_blank\">golden-sweep-8</a></strong> to <a href='https://wandb.ai/kiritgpillai-new-york-university/a100-resnet-hyperparameter-tuning' target=\"_blank\">Weights & Biases</a> (<a href='https://wandb.me/developer-guide' target=\"_blank\">docs</a>)<br>Sweep page: <a href='https://wandb.ai/kiritgpillai-new-york-university/a100-resnet-hyperparameter-tuning/sweeps/mjwr3ao0' target=\"_blank\">https://wandb.ai/kiritgpillai-new-york-university/a100-resnet-hyperparameter-tuning/sweeps/mjwr3ao0</a>"
            ],
            "text/plain": [
              "<IPython.core.display.HTML object>"
            ]
          },
          "metadata": {},
          "output_type": "display_data"
        },
        {
          "data": {
            "text/html": [
              " View project at <a href='https://wandb.ai/kiritgpillai-new-york-university/a100-resnet-hyperparameter-tuning' target=\"_blank\">https://wandb.ai/kiritgpillai-new-york-university/a100-resnet-hyperparameter-tuning</a>"
            ],
            "text/plain": [
              "<IPython.core.display.HTML object>"
            ]
          },
          "metadata": {},
          "output_type": "display_data"
        },
        {
          "data": {
            "text/html": [
              " View sweep at <a href='https://wandb.ai/kiritgpillai-new-york-university/a100-resnet-hyperparameter-tuning/sweeps/mjwr3ao0' target=\"_blank\">https://wandb.ai/kiritgpillai-new-york-university/a100-resnet-hyperparameter-tuning/sweeps/mjwr3ao0</a>"
            ],
            "text/plain": [
              "<IPython.core.display.HTML object>"
            ]
          },
          "metadata": {},
          "output_type": "display_data"
        },
        {
          "data": {
            "text/html": [
              " View run at <a href='https://wandb.ai/kiritgpillai-new-york-university/a100-resnet-hyperparameter-tuning/runs/k4gi5yzr' target=\"_blank\">https://wandb.ai/kiritgpillai-new-york-university/a100-resnet-hyperparameter-tuning/runs/k4gi5yzr</a>"
            ],
            "text/plain": [
              "<IPython.core.display.HTML object>"
            ]
          },
          "metadata": {},
          "output_type": "display_data"
        },
        {
          "data": {
            "text/html": [],
            "text/plain": [
              "<IPython.core.display.HTML object>"
            ]
          },
          "metadata": {},
          "output_type": "display_data"
        },
        {
          "data": {
            "text/html": [
              "<br>    <style><br>        .wandb-row {<br>            display: flex;<br>            flex-direction: row;<br>            flex-wrap: wrap;<br>            justify-content: flex-start;<br>            width: 100%;<br>        }<br>        .wandb-col {<br>            display: flex;<br>            flex-direction: column;<br>            flex-basis: 100%;<br>            flex: 1;<br>            padding: 10px;<br>        }<br>    </style><br><div class=\"wandb-row\"><div class=\"wandb-col\"><h3>Run history:</h3><br/><table class=\"wandb\"><tr><td>epoch</td><td>▁▁▁▁▂▂▂▂▂▃▃▃▃▃▃▄▄▄▄▄▅▅▅▅▅▆▆▆▆▆▆▇▇▇▇▇▇███</td></tr><tr><td>train_acc</td><td>█▃▂▁▁▁▁▁▁▁▁▁▁▁▁▂▂▂▂▂▂▂▂▂▂▂▂▂▂▂▂▂▂▂▂▂▂▂▂▂</td></tr><tr><td>train_loss</td><td>▁▆▇███████████▇▇▇█▇▇▇▇▇▇▇▇▇▇▇▇▇▇▇▇▇▇▇▇▇▇</td></tr></table><br/></div><div class=\"wandb-col\"><h3>Run summary:</h3><br/><table class=\"wandb\"><tr><td>epoch</td><td>50</td></tr><tr><td>train_acc</td><td>85.312</td></tr><tr><td>train_loss</td><td>0.42886</td></tr></table><br/></div></div>"
            ],
            "text/plain": [
              "<IPython.core.display.HTML object>"
            ]
          },
          "metadata": {},
          "output_type": "display_data"
        },
        {
          "data": {
            "text/html": [
              " View run <strong style=\"color:#cdcd00\">golden-sweep-8</strong> at: <a href='https://wandb.ai/kiritgpillai-new-york-university/a100-resnet-hyperparameter-tuning/runs/k4gi5yzr' target=\"_blank\">https://wandb.ai/kiritgpillai-new-york-university/a100-resnet-hyperparameter-tuning/runs/k4gi5yzr</a><br> View project at: <a href='https://wandb.ai/kiritgpillai-new-york-university/a100-resnet-hyperparameter-tuning' target=\"_blank\">https://wandb.ai/kiritgpillai-new-york-university/a100-resnet-hyperparameter-tuning</a><br>Synced 5 W&B file(s), 0 media file(s), 0 artifact file(s) and 0 other file(s)"
            ],
            "text/plain": [
              "<IPython.core.display.HTML object>"
            ]
          },
          "metadata": {},
          "output_type": "display_data"
        },
        {
          "data": {
            "text/html": [
              "Find logs at: <code>./wandb/run-20250313_190929-k4gi5yzr/logs</code>"
            ],
            "text/plain": [
              "<IPython.core.display.HTML object>"
            ]
          },
          "metadata": {},
          "output_type": "display_data"
        },
        {
          "name": "stderr",
          "output_type": "stream",
          "text": [
            "\u001b[34m\u001b[1mwandb\u001b[0m: Sweep Agent: Waiting for job.\n",
            "\u001b[34m\u001b[1mwandb\u001b[0m: Job received.\n",
            "\u001b[34m\u001b[1mwandb\u001b[0m: Agent Starting Run: 3bp2u87s with config:\n",
            "\u001b[34m\u001b[1mwandb\u001b[0m: \tbatch_size: 64\n",
            "\u001b[34m\u001b[1mwandb\u001b[0m: \tepochs: 50\n",
            "\u001b[34m\u001b[1mwandb\u001b[0m: \tlearning_rate: 0.001\n",
            "\u001b[34m\u001b[1mwandb\u001b[0m: \toptimizer: adadelta\n",
            "\u001b[34m\u001b[1mwandb\u001b[0m: \tweight_decay: 0.001\n"
          ]
        },
        {
          "data": {
            "text/html": [
              "Tracking run with wandb version 0.19.8"
            ],
            "text/plain": [
              "<IPython.core.display.HTML object>"
            ]
          },
          "metadata": {},
          "output_type": "display_data"
        },
        {
          "data": {
            "text/html": [
              "Run data is saved locally in <code>/content/wandb/run-20250313_193022-3bp2u87s</code>"
            ],
            "text/plain": [
              "<IPython.core.display.HTML object>"
            ]
          },
          "metadata": {},
          "output_type": "display_data"
        },
        {
          "data": {
            "text/html": [
              "Syncing run <strong><a href='https://wandb.ai/kiritgpillai-new-york-university/a100-resnet-hyperparameter-tuning/runs/3bp2u87s' target=\"_blank\">sunny-sweep-9</a></strong> to <a href='https://wandb.ai/kiritgpillai-new-york-university/a100-resnet-hyperparameter-tuning' target=\"_blank\">Weights & Biases</a> (<a href='https://wandb.me/developer-guide' target=\"_blank\">docs</a>)<br>Sweep page: <a href='https://wandb.ai/kiritgpillai-new-york-university/a100-resnet-hyperparameter-tuning/sweeps/mjwr3ao0' target=\"_blank\">https://wandb.ai/kiritgpillai-new-york-university/a100-resnet-hyperparameter-tuning/sweeps/mjwr3ao0</a>"
            ],
            "text/plain": [
              "<IPython.core.display.HTML object>"
            ]
          },
          "metadata": {},
          "output_type": "display_data"
        },
        {
          "data": {
            "text/html": [
              " View project at <a href='https://wandb.ai/kiritgpillai-new-york-university/a100-resnet-hyperparameter-tuning' target=\"_blank\">https://wandb.ai/kiritgpillai-new-york-university/a100-resnet-hyperparameter-tuning</a>"
            ],
            "text/plain": [
              "<IPython.core.display.HTML object>"
            ]
          },
          "metadata": {},
          "output_type": "display_data"
        },
        {
          "data": {
            "text/html": [
              " View sweep at <a href='https://wandb.ai/kiritgpillai-new-york-university/a100-resnet-hyperparameter-tuning/sweeps/mjwr3ao0' target=\"_blank\">https://wandb.ai/kiritgpillai-new-york-university/a100-resnet-hyperparameter-tuning/sweeps/mjwr3ao0</a>"
            ],
            "text/plain": [
              "<IPython.core.display.HTML object>"
            ]
          },
          "metadata": {},
          "output_type": "display_data"
        },
        {
          "data": {
            "text/html": [
              " View run at <a href='https://wandb.ai/kiritgpillai-new-york-university/a100-resnet-hyperparameter-tuning/runs/3bp2u87s' target=\"_blank\">https://wandb.ai/kiritgpillai-new-york-university/a100-resnet-hyperparameter-tuning/runs/3bp2u87s</a>"
            ],
            "text/plain": [
              "<IPython.core.display.HTML object>"
            ]
          },
          "metadata": {},
          "output_type": "display_data"
        },
        {
          "data": {
            "text/html": [],
            "text/plain": [
              "<IPython.core.display.HTML object>"
            ]
          },
          "metadata": {},
          "output_type": "display_data"
        },
        {
          "data": {
            "text/html": [
              "<br>    <style><br>        .wandb-row {<br>            display: flex;<br>            flex-direction: row;<br>            flex-wrap: wrap;<br>            justify-content: flex-start;<br>            width: 100%;<br>        }<br>        .wandb-col {<br>            display: flex;<br>            flex-direction: column;<br>            flex-basis: 100%;<br>            flex: 1;<br>            padding: 10px;<br>        }<br>    </style><br><div class=\"wandb-row\"><div class=\"wandb-col\"><h3>Run history:</h3><br/><table class=\"wandb\"><tr><td>epoch</td><td>▁▁▁▁▂▂▂▂▃▃▃▃▃▃▄▄▄▄▄▄▅▅▅▅▅▆▆▆▆▆▆▇▇▇▇▇▇███</td></tr><tr><td>train_acc</td><td>▁▂▃▂▄▃▄▄▅▅▅▄▆▅▃▆▅▆▇▅▆▇▇█▆▆▇▆▇▆▅▆▆▅▅▅▆▇▅▆</td></tr><tr><td>train_loss</td><td>█▆▅▅▃▄▄▃▃▅▄▂▃▄▂▃▂▁▂▂▂▁▁▂▂▁▁▂▂▁▂▂▂▁▂▁▁▂▂▁</td></tr></table><br/></div><div class=\"wandb-col\"><h3>Run summary:</h3><br/><table class=\"wandb\"><tr><td>epoch</td><td>50</td></tr><tr><td>train_acc</td><td>88.704</td></tr><tr><td>train_loss</td><td>0.33037</td></tr></table><br/></div></div>"
            ],
            "text/plain": [
              "<IPython.core.display.HTML object>"
            ]
          },
          "metadata": {},
          "output_type": "display_data"
        },
        {
          "data": {
            "text/html": [
              " View run <strong style=\"color:#cdcd00\">sunny-sweep-9</strong> at: <a href='https://wandb.ai/kiritgpillai-new-york-university/a100-resnet-hyperparameter-tuning/runs/3bp2u87s' target=\"_blank\">https://wandb.ai/kiritgpillai-new-york-university/a100-resnet-hyperparameter-tuning/runs/3bp2u87s</a><br> View project at: <a href='https://wandb.ai/kiritgpillai-new-york-university/a100-resnet-hyperparameter-tuning' target=\"_blank\">https://wandb.ai/kiritgpillai-new-york-university/a100-resnet-hyperparameter-tuning</a><br>Synced 5 W&B file(s), 0 media file(s), 0 artifact file(s) and 0 other file(s)"
            ],
            "text/plain": [
              "<IPython.core.display.HTML object>"
            ]
          },
          "metadata": {},
          "output_type": "display_data"
        },
        {
          "data": {
            "text/html": [
              "Find logs at: <code>./wandb/run-20250313_193022-3bp2u87s/logs</code>"
            ],
            "text/plain": [
              "<IPython.core.display.HTML object>"
            ]
          },
          "metadata": {},
          "output_type": "display_data"
        },
        {
          "name": "stderr",
          "output_type": "stream",
          "text": [
            "\u001b[34m\u001b[1mwandb\u001b[0m: Agent Starting Run: 0mxguijw with config:\n",
            "\u001b[34m\u001b[1mwandb\u001b[0m: \tbatch_size: 128\n",
            "\u001b[34m\u001b[1mwandb\u001b[0m: \tepochs: 50\n",
            "\u001b[34m\u001b[1mwandb\u001b[0m: \tlearning_rate: 0.0001\n",
            "\u001b[34m\u001b[1mwandb\u001b[0m: \toptimizer: adadelta\n",
            "\u001b[34m\u001b[1mwandb\u001b[0m: \tweight_decay: 0.001\n"
          ]
        },
        {
          "data": {
            "text/html": [
              "Tracking run with wandb version 0.19.8"
            ],
            "text/plain": [
              "<IPython.core.display.HTML object>"
            ]
          },
          "metadata": {},
          "output_type": "display_data"
        },
        {
          "data": {
            "text/html": [
              "Run data is saved locally in <code>/content/wandb/run-20250313_194212-0mxguijw</code>"
            ],
            "text/plain": [
              "<IPython.core.display.HTML object>"
            ]
          },
          "metadata": {},
          "output_type": "display_data"
        },
        {
          "data": {
            "text/html": [
              "Syncing run <strong><a href='https://wandb.ai/kiritgpillai-new-york-university/a100-resnet-hyperparameter-tuning/runs/0mxguijw' target=\"_blank\">wandering-sweep-10</a></strong> to <a href='https://wandb.ai/kiritgpillai-new-york-university/a100-resnet-hyperparameter-tuning' target=\"_blank\">Weights & Biases</a> (<a href='https://wandb.me/developer-guide' target=\"_blank\">docs</a>)<br>Sweep page: <a href='https://wandb.ai/kiritgpillai-new-york-university/a100-resnet-hyperparameter-tuning/sweeps/mjwr3ao0' target=\"_blank\">https://wandb.ai/kiritgpillai-new-york-university/a100-resnet-hyperparameter-tuning/sweeps/mjwr3ao0</a>"
            ],
            "text/plain": [
              "<IPython.core.display.HTML object>"
            ]
          },
          "metadata": {},
          "output_type": "display_data"
        },
        {
          "data": {
            "text/html": [
              " View project at <a href='https://wandb.ai/kiritgpillai-new-york-university/a100-resnet-hyperparameter-tuning' target=\"_blank\">https://wandb.ai/kiritgpillai-new-york-university/a100-resnet-hyperparameter-tuning</a>"
            ],
            "text/plain": [
              "<IPython.core.display.HTML object>"
            ]
          },
          "metadata": {},
          "output_type": "display_data"
        },
        {
          "data": {
            "text/html": [
              " View sweep at <a href='https://wandb.ai/kiritgpillai-new-york-university/a100-resnet-hyperparameter-tuning/sweeps/mjwr3ao0' target=\"_blank\">https://wandb.ai/kiritgpillai-new-york-university/a100-resnet-hyperparameter-tuning/sweeps/mjwr3ao0</a>"
            ],
            "text/plain": [
              "<IPython.core.display.HTML object>"
            ]
          },
          "metadata": {},
          "output_type": "display_data"
        },
        {
          "data": {
            "text/html": [
              " View run at <a href='https://wandb.ai/kiritgpillai-new-york-university/a100-resnet-hyperparameter-tuning/runs/0mxguijw' target=\"_blank\">https://wandb.ai/kiritgpillai-new-york-university/a100-resnet-hyperparameter-tuning/runs/0mxguijw</a>"
            ],
            "text/plain": [
              "<IPython.core.display.HTML object>"
            ]
          },
          "metadata": {},
          "output_type": "display_data"
        },
        {
          "data": {
            "text/html": [],
            "text/plain": [
              "<IPython.core.display.HTML object>"
            ]
          },
          "metadata": {},
          "output_type": "display_data"
        },
        {
          "data": {
            "text/html": [
              "<br>    <style><br>        .wandb-row {<br>            display: flex;<br>            flex-direction: row;<br>            flex-wrap: wrap;<br>            justify-content: flex-start;<br>            width: 100%;<br>        }<br>        .wandb-col {<br>            display: flex;<br>            flex-direction: column;<br>            flex-basis: 100%;<br>            flex: 1;<br>            padding: 10px;<br>        }<br>    </style><br><div class=\"wandb-row\"><div class=\"wandb-col\"><h3>Run history:</h3><br/><table class=\"wandb\"><tr><td>epoch</td><td>▁▁▁▁▂▂▂▂▂▃▃▃▃▃▃▄▄▄▄▄▅▅▅▅▅▅▆▆▆▆▆▇▇▇▇▇▇███</td></tr><tr><td>train_acc</td><td>▁▃▃▄▄▄▅▅▅▅▅▅▆▆▆▆▆▆▆▇▇▇▇▇▇▇▇▇████████████</td></tr><tr><td>train_loss</td><td>█▇▆▆▅▅▄▄▄▄▄▃▃▃▃▃▃▃▃▂▂▂▂▂▂▂▂▂▂▁▁▁▁▁▁▁▁▁▁▁</td></tr></table><br/></div><div class=\"wandb-col\"><h3>Run summary:</h3><br/><table class=\"wandb\"><tr><td>epoch</td><td>50</td></tr><tr><td>train_acc</td><td>98.014</td></tr><tr><td>train_loss</td><td>0.06152</td></tr></table><br/></div></div>"
            ],
            "text/plain": [
              "<IPython.core.display.HTML object>"
            ]
          },
          "metadata": {},
          "output_type": "display_data"
        },
        {
          "data": {
            "text/html": [
              " View run <strong style=\"color:#cdcd00\">wandering-sweep-10</strong> at: <a href='https://wandb.ai/kiritgpillai-new-york-university/a100-resnet-hyperparameter-tuning/runs/0mxguijw' target=\"_blank\">https://wandb.ai/kiritgpillai-new-york-university/a100-resnet-hyperparameter-tuning/runs/0mxguijw</a><br> View project at: <a href='https://wandb.ai/kiritgpillai-new-york-university/a100-resnet-hyperparameter-tuning' target=\"_blank\">https://wandb.ai/kiritgpillai-new-york-university/a100-resnet-hyperparameter-tuning</a><br>Synced 5 W&B file(s), 0 media file(s), 0 artifact file(s) and 0 other file(s)"
            ],
            "text/plain": [
              "<IPython.core.display.HTML object>"
            ]
          },
          "metadata": {},
          "output_type": "display_data"
        },
        {
          "data": {
            "text/html": [
              "Find logs at: <code>./wandb/run-20250313_194212-0mxguijw/logs</code>"
            ],
            "text/plain": [
              "<IPython.core.display.HTML object>"
            ]
          },
          "metadata": {},
          "output_type": "display_data"
        }
      ],
      "source": [
        "# Train the model using wandb hyperparameters\n",
        "def train_sweep():\n",
        "    with wandb.init() as run:\n",
        "        config = wandb.config\n",
        "        optimizer = optim.Adam(model.parameters(), lr=config.learning_rate, weight_decay=config.weight_decay)\n",
        "        train_loader = torch.utils.data.DataLoader(train_dataset, batch_size=config.batch_size, shuffle=True, num_workers=2)\n",
        "\n",
        "        # Training loop\n",
        "        for epoch in range(config.epochs):\n",
        "            epoch_start = time.time()\n",
        "            model.train()\n",
        "            running_loss = 0.0\n",
        "            train_correct = 0\n",
        "            train_total = 0\n",
        "            for inputs, labels in train_loader:\n",
        "                inputs, labels = inputs.to(device), labels.to(device)\n",
        "                optimizer.zero_grad()\n",
        "                outputs = model(inputs)\n",
        "                loss = criterion(outputs, labels)\n",
        "                loss.backward()\n",
        "                optimizer.step()\n",
        "\n",
        "                running_loss += loss.item()\n",
        "                _, preds = torch.max(outputs, 1)\n",
        "                train_total += labels.size(0)\n",
        "                train_correct += (preds == labels).sum().item()\n",
        "\n",
        "            train_loss = running_loss / len(train_loader)\n",
        "            train_acc = 100 * train_correct / train_total\n",
        "\n",
        "            # Log results\n",
        "            wandb.log({\"train_loss\": train_loss, \"train_acc\": train_acc, \"epoch\": epoch+1})\n",
        "\n",
        "wandb.agent(sweep_id, train_sweep, count=10) "
      ]
    },
    {
      "cell_type": "code",
      "execution_count": null,
      "metadata": {
        "colab": {
          "base_uri": "https://localhost:8080/"
        },
        "id": "lU8Mq7J5GVBu",
        "outputId": "fc0a2330-9364-4476-d866-f9c88d4664ea"
      },
      "outputs": [
        {
          "name": "stdout",
          "output_type": "stream",
          "text": [
            "Best Hyperparameters: {'epochs': 50, 'optimizer': 'adadelta', 'batch_size': 128, 'weight_decay': 0.001, 'learning_rate': 0.0001}\n"
          ]
        }
      ],
      "source": [
        "api = wandb.Api()\n",
        "sweep = api.sweep('kiritgpillai-new-york-university/a100-resnet-hyperparameter-tuning/sweeps/mjwr3ao0')\n",
        "runs = sweep.runs\n",
        "\n",
        "\n",
        "# Sort runs by a specific metric (e.g., 'validation_accuracy')\n",
        "sorted_runs = sorted(runs, key=lambda run: run.summary.get('validation_accuracy', 0), reverse=True)\n",
        "\n",
        "# Extract the best run's hyperparameters\n",
        "best_run = sorted_runs[0]\n",
        "best_hyperparameters = best_run.config\n",
        "print(f\"Best Hyperparameters: {best_hyperparameters}\")\n"
      ]
    },
    {
      "cell_type": "code",
      "execution_count": null,
      "metadata": {
        "id": "sW6OkR6oHDsj"
      },
      "outputs": [],
      "source": [
        "# Set hyperparameters\n",
        "num_epochs = 300\n",
        "learning_rate = 0.0001\n",
        "weight_decay = 0.001\n",
        "batch_size = 64\n",
        "\n",
        "# Initialize loss function\n",
        "criterion = nn.CrossEntropyLoss()\n",
        "\n",
        "\n",
        "# Initialize the Adadelta optimizer\n",
        "optimizer = optim.Adadelta(model.parameters(), lr=learning_rate, weight_decay=weight_decay)\n"
      ]
    },
    {
      "cell_type": "code",
      "execution_count": null,
      "metadata": {
        "colab": {
          "base_uri": "https://localhost:8080/"
        },
        "id": "8yB2GxEQi-6X",
        "outputId": "97ec6c92-7536-49d0-e16d-3891df400043"
      },
      "outputs": [
        {
          "name": "stdout",
          "output_type": "stream",
          "text": [
            "Epoch 1/300 completed in 13.08s\n",
            "Train Loss: 1.3823, Train Acc: 49.40%\n",
            "Validation Loss: 1.7236, Validation Acc: 39.60%\n",
            "\n",
            "Epoch 2/300 completed in 13.47s\n",
            "Train Loss: 1.3750, Train Acc: 49.90%\n",
            "Validation Loss: 1.6936, Validation Acc: 40.38%\n",
            "\n",
            "Epoch 3/300 completed in 12.58s\n",
            "Train Loss: 1.3702, Train Acc: 49.84%\n",
            "Validation Loss: 1.7088, Validation Acc: 40.16%\n",
            "\n",
            "Epoch 4/300 completed in 13.29s\n",
            "Train Loss: 1.3661, Train Acc: 50.06%\n",
            "Validation Loss: 1.7074, Validation Acc: 40.18%\n",
            "\n",
            "Epoch 5/300 completed in 12.76s\n",
            "Train Loss: 1.3645, Train Acc: 50.16%\n",
            "Validation Loss: 1.6962, Validation Acc: 40.64%\n",
            "\n",
            "Epoch 6/300 completed in 13.28s\n",
            "Train Loss: 1.3614, Train Acc: 50.41%\n",
            "Validation Loss: 1.6821, Validation Acc: 40.88%\n",
            "\n",
            "Epoch 7/300 completed in 12.84s\n",
            "Train Loss: 1.3530, Train Acc: 50.45%\n",
            "Validation Loss: 1.6768, Validation Acc: 41.06%\n",
            "\n",
            "Epoch 8/300 completed in 12.53s\n",
            "Train Loss: 1.3538, Train Acc: 50.74%\n",
            "Validation Loss: 1.6856, Validation Acc: 41.04%\n",
            "\n",
            "Epoch 9/300 completed in 13.56s\n",
            "Train Loss: 1.3452, Train Acc: 51.00%\n",
            "Validation Loss: 1.6756, Validation Acc: 41.31%\n",
            "\n",
            "Epoch 10/300 completed in 12.60s\n",
            "Train Loss: 1.3460, Train Acc: 50.88%\n",
            "Validation Loss: 1.6831, Validation Acc: 41.31%\n",
            "\n",
            "Epoch 11/300 completed in 13.80s\n",
            "Train Loss: 1.3405, Train Acc: 51.08%\n",
            "Validation Loss: 1.6774, Validation Acc: 41.33%\n",
            "\n",
            "Epoch 12/300 completed in 12.69s\n",
            "Train Loss: 1.3329, Train Acc: 51.20%\n",
            "Validation Loss: 1.6598, Validation Acc: 42.07%\n",
            "\n",
            "Epoch 13/300 completed in 13.32s\n",
            "Train Loss: 1.3335, Train Acc: 51.40%\n",
            "Validation Loss: 1.6753, Validation Acc: 41.72%\n",
            "\n",
            "Epoch 14/300 completed in 12.68s\n",
            "Train Loss: 1.3302, Train Acc: 51.75%\n",
            "Validation Loss: 1.6482, Validation Acc: 42.28%\n",
            "\n",
            "Epoch 15/300 completed in 12.94s\n",
            "Train Loss: 1.3259, Train Acc: 51.67%\n",
            "Validation Loss: 1.6368, Validation Acc: 43.00%\n",
            "\n",
            "Epoch 16/300 completed in 13.47s\n",
            "Train Loss: 1.3228, Train Acc: 51.80%\n",
            "Validation Loss: 1.6207, Validation Acc: 43.50%\n",
            "\n",
            "Epoch 17/300 completed in 12.74s\n",
            "Train Loss: 1.3209, Train Acc: 51.81%\n",
            "Validation Loss: 1.6358, Validation Acc: 42.93%\n",
            "\n",
            "Epoch 18/300 completed in 13.06s\n",
            "Train Loss: 1.3174, Train Acc: 51.92%\n",
            "Validation Loss: 1.6096, Validation Acc: 43.53%\n",
            "\n",
            "Epoch 19/300 completed in 13.17s\n",
            "Train Loss: 1.3131, Train Acc: 52.01%\n",
            "Validation Loss: 1.6538, Validation Acc: 42.59%\n",
            "\n",
            "Epoch 20/300 completed in 12.80s\n",
            "Train Loss: 1.3077, Train Acc: 52.27%\n",
            "Validation Loss: 1.6317, Validation Acc: 43.28%\n",
            "\n",
            "Epoch 21/300 completed in 12.68s\n",
            "Train Loss: 1.3032, Train Acc: 52.44%\n",
            "Validation Loss: 1.6033, Validation Acc: 43.95%\n",
            "\n",
            "Epoch 22/300 completed in 12.59s\n",
            "Train Loss: 1.3042, Train Acc: 52.60%\n",
            "Validation Loss: 1.6354, Validation Acc: 43.05%\n",
            "\n",
            "Epoch 23/300 completed in 12.96s\n",
            "Train Loss: 1.3008, Train Acc: 52.67%\n",
            "Validation Loss: 1.6019, Validation Acc: 44.05%\n",
            "\n",
            "Epoch 24/300 completed in 13.21s\n",
            "Train Loss: 1.2976, Train Acc: 52.98%\n",
            "Validation Loss: 1.6026, Validation Acc: 44.15%\n",
            "\n",
            "Epoch 25/300 completed in 13.36s\n",
            "Train Loss: 1.2940, Train Acc: 52.77%\n",
            "Validation Loss: 1.6131, Validation Acc: 43.86%\n",
            "\n",
            "Epoch 26/300 completed in 12.62s\n",
            "Train Loss: 1.2904, Train Acc: 53.14%\n",
            "Validation Loss: 1.5793, Validation Acc: 44.89%\n",
            "\n",
            "Epoch 27/300 completed in 12.50s\n",
            "Train Loss: 1.2872, Train Acc: 53.31%\n",
            "Validation Loss: 1.6135, Validation Acc: 43.91%\n",
            "\n",
            "Epoch 28/300 completed in 12.80s\n",
            "Train Loss: 1.2828, Train Acc: 53.36%\n",
            "Validation Loss: 1.5896, Validation Acc: 44.77%\n",
            "\n",
            "Epoch 29/300 completed in 12.56s\n",
            "Train Loss: 1.2835, Train Acc: 53.30%\n",
            "Validation Loss: 1.5612, Validation Acc: 45.44%\n",
            "\n",
            "Epoch 30/300 completed in 12.50s\n",
            "Train Loss: 1.2774, Train Acc: 53.53%\n",
            "Validation Loss: 1.6086, Validation Acc: 44.07%\n",
            "\n",
            "Epoch 31/300 completed in 13.17s\n",
            "Train Loss: 1.2751, Train Acc: 53.63%\n",
            "Validation Loss: 1.5762, Validation Acc: 45.21%\n",
            "\n",
            "Epoch 32/300 completed in 12.78s\n",
            "Train Loss: 1.2705, Train Acc: 53.65%\n",
            "Validation Loss: 1.5534, Validation Acc: 45.78%\n",
            "\n",
            "Epoch 33/300 completed in 12.62s\n",
            "Train Loss: 1.2708, Train Acc: 53.78%\n",
            "Validation Loss: 1.5793, Validation Acc: 45.05%\n",
            "\n",
            "Epoch 34/300 completed in 13.00s\n",
            "Train Loss: 1.2659, Train Acc: 53.94%\n",
            "Validation Loss: 1.5630, Validation Acc: 45.66%\n",
            "\n",
            "Epoch 35/300 completed in 12.68s\n",
            "Train Loss: 1.2632, Train Acc: 53.90%\n",
            "Validation Loss: 1.5435, Validation Acc: 46.06%\n",
            "\n",
            "Epoch 36/300 completed in 13.30s\n",
            "Train Loss: 1.2591, Train Acc: 54.11%\n",
            "Validation Loss: 1.5385, Validation Acc: 46.14%\n",
            "\n",
            "Epoch 37/300 completed in 12.72s\n",
            "Train Loss: 1.2546, Train Acc: 54.41%\n",
            "Validation Loss: 1.5254, Validation Acc: 46.60%\n",
            "\n",
            "Epoch 38/300 completed in 12.79s\n",
            "Train Loss: 1.2560, Train Acc: 54.28%\n",
            "Validation Loss: 1.5406, Validation Acc: 46.24%\n",
            "\n",
            "Epoch 39/300 completed in 12.75s\n",
            "Train Loss: 1.2529, Train Acc: 54.32%\n",
            "Validation Loss: 1.5759, Validation Acc: 45.37%\n",
            "\n",
            "Epoch 40/300 completed in 13.34s\n",
            "Train Loss: 1.2515, Train Acc: 54.52%\n",
            "Validation Loss: 1.5392, Validation Acc: 46.29%\n",
            "\n",
            "Epoch 41/300 completed in 13.02s\n",
            "Train Loss: 1.2456, Train Acc: 54.94%\n",
            "Validation Loss: 1.5664, Validation Acc: 45.72%\n",
            "\n",
            "Epoch 42/300 completed in 13.62s\n",
            "Train Loss: 1.2449, Train Acc: 54.95%\n",
            "Validation Loss: 1.5211, Validation Acc: 46.69%\n",
            "\n",
            "Epoch 43/300 completed in 13.21s\n",
            "Train Loss: 1.2409, Train Acc: 54.94%\n",
            "Validation Loss: 1.5238, Validation Acc: 46.64%\n",
            "\n",
            "Epoch 44/300 completed in 12.86s\n",
            "Train Loss: 1.2358, Train Acc: 54.87%\n",
            "Validation Loss: 1.5117, Validation Acc: 47.07%\n",
            "\n",
            "Epoch 45/300 completed in 12.66s\n",
            "Train Loss: 1.2352, Train Acc: 55.19%\n",
            "Validation Loss: 1.5302, Validation Acc: 46.45%\n",
            "\n",
            "Epoch 46/300 completed in 12.68s\n",
            "Train Loss: 1.2321, Train Acc: 55.52%\n",
            "Validation Loss: 1.5115, Validation Acc: 47.30%\n",
            "\n",
            "Epoch 47/300 completed in 12.60s\n",
            "Train Loss: 1.2314, Train Acc: 55.62%\n",
            "Validation Loss: 1.5109, Validation Acc: 47.08%\n",
            "\n",
            "Epoch 48/300 completed in 13.12s\n",
            "Train Loss: 1.2282, Train Acc: 55.26%\n",
            "Validation Loss: 1.5209, Validation Acc: 46.75%\n",
            "\n",
            "Epoch 49/300 completed in 13.04s\n",
            "Train Loss: 1.2259, Train Acc: 55.50%\n",
            "Validation Loss: 1.5118, Validation Acc: 47.07%\n",
            "\n",
            "Epoch 50/300 completed in 12.73s\n",
            "Train Loss: 1.2246, Train Acc: 55.62%\n",
            "Validation Loss: 1.5148, Validation Acc: 47.11%\n",
            "\n",
            "Epoch 51/300 completed in 12.63s\n",
            "Train Loss: 1.2222, Train Acc: 55.85%\n",
            "Validation Loss: 1.5194, Validation Acc: 47.18%\n",
            "\n",
            "Epoch 52/300 completed in 13.27s\n",
            "Train Loss: 1.2186, Train Acc: 55.97%\n",
            "Validation Loss: 1.4961, Validation Acc: 47.81%\n",
            "\n",
            "Epoch 53/300 completed in 12.81s\n",
            "Train Loss: 1.2141, Train Acc: 55.90%\n",
            "Validation Loss: 1.4781, Validation Acc: 48.15%\n",
            "\n",
            "Epoch 54/300 completed in 13.08s\n",
            "Train Loss: 1.2150, Train Acc: 55.98%\n",
            "Validation Loss: 1.5164, Validation Acc: 47.45%\n",
            "\n",
            "Epoch 55/300 completed in 13.12s\n",
            "Train Loss: 1.2110, Train Acc: 56.26%\n",
            "Validation Loss: 1.4748, Validation Acc: 48.24%\n",
            "\n",
            "Epoch 56/300 completed in 12.61s\n",
            "Train Loss: 1.2069, Train Acc: 56.19%\n",
            "Validation Loss: 1.4796, Validation Acc: 48.12%\n",
            "\n",
            "Epoch 57/300 completed in 13.63s\n",
            "Train Loss: 1.2104, Train Acc: 56.16%\n",
            "Validation Loss: 1.4673, Validation Acc: 48.43%\n",
            "\n",
            "Epoch 58/300 completed in 12.66s\n",
            "Train Loss: 1.2043, Train Acc: 56.34%\n",
            "Validation Loss: 1.4590, Validation Acc: 48.87%\n",
            "\n",
            "Epoch 59/300 completed in 13.01s\n",
            "Train Loss: 1.2022, Train Acc: 56.36%\n",
            "Validation Loss: 1.4620, Validation Acc: 48.88%\n",
            "\n",
            "Epoch 60/300 completed in 12.73s\n",
            "Train Loss: 1.1986, Train Acc: 56.38%\n",
            "Validation Loss: 1.4492, Validation Acc: 49.10%\n",
            "\n",
            "Epoch 61/300 completed in 12.67s\n",
            "Train Loss: 1.1983, Train Acc: 56.53%\n",
            "Validation Loss: 1.4582, Validation Acc: 48.74%\n",
            "\n",
            "Epoch 62/300 completed in 12.64s\n",
            "Train Loss: 1.1932, Train Acc: 56.87%\n",
            "Validation Loss: 1.4537, Validation Acc: 48.93%\n",
            "\n",
            "Epoch 63/300 completed in 13.20s\n",
            "Train Loss: 1.1934, Train Acc: 56.82%\n",
            "Validation Loss: 1.4654, Validation Acc: 48.82%\n",
            "\n",
            "Epoch 64/300 completed in 13.41s\n",
            "Train Loss: 1.1895, Train Acc: 56.95%\n",
            "Validation Loss: 1.4617, Validation Acc: 48.62%\n",
            "\n",
            "Epoch 65/300 completed in 12.97s\n",
            "Train Loss: 1.1884, Train Acc: 56.88%\n",
            "Validation Loss: 1.4712, Validation Acc: 48.65%\n",
            "\n",
            "Epoch 66/300 completed in 12.99s\n",
            "Train Loss: 1.1865, Train Acc: 57.04%\n",
            "Validation Loss: 1.4635, Validation Acc: 48.74%\n",
            "\n",
            "Epoch 67/300 completed in 12.62s\n",
            "Train Loss: 1.1834, Train Acc: 56.89%\n",
            "Validation Loss: 1.4655, Validation Acc: 48.99%\n",
            "\n",
            "Epoch 68/300 completed in 12.71s\n",
            "Train Loss: 1.1854, Train Acc: 57.04%\n",
            "Validation Loss: 1.4565, Validation Acc: 49.25%\n",
            "\n",
            "Epoch 69/300 completed in 13.28s\n",
            "Train Loss: 1.1791, Train Acc: 57.55%\n",
            "Validation Loss: 1.4522, Validation Acc: 49.56%\n",
            "\n",
            "Epoch 70/300 completed in 13.72s\n",
            "Train Loss: 1.1823, Train Acc: 57.27%\n",
            "Validation Loss: 1.4311, Validation Acc: 49.71%\n",
            "\n",
            "Epoch 71/300 completed in 13.05s\n",
            "Train Loss: 1.1781, Train Acc: 57.15%\n",
            "Validation Loss: 1.4242, Validation Acc: 50.09%\n",
            "\n",
            "Epoch 72/300 completed in 12.80s\n",
            "Train Loss: 1.1727, Train Acc: 57.59%\n",
            "Validation Loss: 1.3984, Validation Acc: 50.69%\n",
            "\n",
            "Epoch 73/300 completed in 13.27s\n",
            "Train Loss: 1.1724, Train Acc: 57.72%\n",
            "Validation Loss: 1.4083, Validation Acc: 50.72%\n",
            "\n",
            "Epoch 74/300 completed in 13.28s\n",
            "Train Loss: 1.1673, Train Acc: 57.73%\n",
            "Validation Loss: 1.4029, Validation Acc: 50.67%\n",
            "\n",
            "Epoch 75/300 completed in 12.73s\n",
            "Train Loss: 1.1665, Train Acc: 57.89%\n",
            "Validation Loss: 1.4386, Validation Acc: 49.77%\n",
            "\n",
            "Epoch 76/300 completed in 12.76s\n",
            "Train Loss: 1.1655, Train Acc: 58.02%\n",
            "Validation Loss: 1.4055, Validation Acc: 50.77%\n",
            "\n",
            "Epoch 77/300 completed in 13.00s\n",
            "Train Loss: 1.1659, Train Acc: 57.80%\n",
            "Validation Loss: 1.4352, Validation Acc: 50.02%\n",
            "\n",
            "Epoch 78/300 completed in 12.72s\n",
            "Train Loss: 1.1627, Train Acc: 57.93%\n",
            "Validation Loss: 1.4191, Validation Acc: 50.56%\n",
            "\n",
            "Epoch 79/300 completed in 12.71s\n",
            "Train Loss: 1.1586, Train Acc: 58.10%\n",
            "Validation Loss: 1.3827, Validation Acc: 51.31%\n",
            "\n",
            "Epoch 80/300 completed in 13.75s\n",
            "Train Loss: 1.1565, Train Acc: 58.33%\n",
            "Validation Loss: 1.3970, Validation Acc: 51.06%\n",
            "\n",
            "Epoch 81/300 completed in 13.39s\n",
            "Train Loss: 1.1566, Train Acc: 58.06%\n",
            "Validation Loss: 1.4088, Validation Acc: 50.80%\n",
            "\n",
            "Epoch 82/300 completed in 12.74s\n",
            "Train Loss: 1.1527, Train Acc: 58.39%\n",
            "Validation Loss: 1.3788, Validation Acc: 51.66%\n",
            "\n",
            "Epoch 83/300 completed in 12.80s\n",
            "Train Loss: 1.1527, Train Acc: 58.61%\n",
            "Validation Loss: 1.4200, Validation Acc: 50.62%\n",
            "\n",
            "Epoch 84/300 completed in 12.97s\n",
            "Train Loss: 1.1504, Train Acc: 58.37%\n",
            "Validation Loss: 1.3961, Validation Acc: 51.22%\n",
            "\n",
            "Epoch 85/300 completed in 12.95s\n",
            "Train Loss: 1.1488, Train Acc: 58.37%\n",
            "Validation Loss: 1.3785, Validation Acc: 51.79%\n",
            "\n",
            "Epoch 86/300 completed in 12.95s\n",
            "Train Loss: 1.1457, Train Acc: 58.73%\n",
            "Validation Loss: 1.3751, Validation Acc: 51.77%\n",
            "\n",
            "Epoch 87/300 completed in 13.07s\n",
            "Train Loss: 1.1438, Train Acc: 58.71%\n",
            "Validation Loss: 1.4200, Validation Acc: 50.80%\n",
            "\n",
            "Epoch 88/300 completed in 12.51s\n",
            "Train Loss: 1.1433, Train Acc: 58.51%\n",
            "Validation Loss: 1.3782, Validation Acc: 51.68%\n",
            "\n",
            "Epoch 89/300 completed in 12.71s\n",
            "Train Loss: 1.1414, Train Acc: 58.91%\n",
            "Validation Loss: 1.4012, Validation Acc: 51.23%\n",
            "\n",
            "Epoch 90/300 completed in 13.71s\n",
            "Train Loss: 1.1404, Train Acc: 58.82%\n",
            "Validation Loss: 1.3756, Validation Acc: 51.81%\n",
            "\n",
            "Epoch 91/300 completed in 13.35s\n",
            "Train Loss: 1.1386, Train Acc: 59.01%\n",
            "Validation Loss: 1.3712, Validation Acc: 52.13%\n",
            "\n",
            "Epoch 92/300 completed in 12.59s\n",
            "Train Loss: 1.1377, Train Acc: 58.98%\n",
            "Validation Loss: 1.3781, Validation Acc: 51.86%\n",
            "\n",
            "Epoch 93/300 completed in 13.05s\n",
            "Train Loss: 1.1352, Train Acc: 59.08%\n",
            "Validation Loss: 1.3706, Validation Acc: 52.19%\n",
            "\n",
            "Epoch 94/300 completed in 12.82s\n",
            "Train Loss: 1.1331, Train Acc: 59.20%\n",
            "Validation Loss: 1.3833, Validation Acc: 51.99%\n",
            "\n",
            "Epoch 95/300 completed in 12.61s\n",
            "Train Loss: 1.1321, Train Acc: 59.27%\n",
            "Validation Loss: 1.3601, Validation Acc: 52.59%\n",
            "\n",
            "Epoch 96/300 completed in 12.62s\n",
            "Train Loss: 1.1299, Train Acc: 59.38%\n",
            "Validation Loss: 1.3399, Validation Acc: 53.21%\n",
            "\n",
            "Epoch 97/300 completed in 12.46s\n",
            "Train Loss: 1.1249, Train Acc: 59.28%\n",
            "Validation Loss: 1.3838, Validation Acc: 51.78%\n",
            "\n",
            "Epoch 98/300 completed in 13.13s\n",
            "Train Loss: 1.1222, Train Acc: 59.42%\n",
            "Validation Loss: 1.3528, Validation Acc: 52.47%\n",
            "\n",
            "Epoch 99/300 completed in 13.27s\n",
            "Train Loss: 1.1222, Train Acc: 59.35%\n",
            "Validation Loss: 1.3351, Validation Acc: 53.42%\n",
            "\n",
            "Epoch 100/300 completed in 13.50s\n",
            "Train Loss: 1.1231, Train Acc: 59.60%\n",
            "Validation Loss: 1.3648, Validation Acc: 52.58%\n",
            "\n",
            "Epoch 101/300 completed in 13.36s\n",
            "Train Loss: 1.1173, Train Acc: 59.76%\n",
            "Validation Loss: 1.3591, Validation Acc: 52.60%\n",
            "\n",
            "Epoch 102/300 completed in 12.74s\n",
            "Train Loss: 1.1189, Train Acc: 59.94%\n",
            "Validation Loss: 1.3519, Validation Acc: 52.91%\n",
            "\n",
            "Epoch 103/300 completed in 13.27s\n",
            "Train Loss: 1.1185, Train Acc: 59.69%\n",
            "Validation Loss: 1.3477, Validation Acc: 53.09%\n",
            "\n",
            "Epoch 104/300 completed in 12.93s\n",
            "Train Loss: 1.1150, Train Acc: 59.89%\n",
            "Validation Loss: 1.3538, Validation Acc: 52.81%\n",
            "\n",
            "Epoch 105/300 completed in 12.69s\n",
            "Train Loss: 1.1139, Train Acc: 60.07%\n",
            "Validation Loss: 1.3349, Validation Acc: 53.44%\n",
            "\n",
            "Epoch 106/300 completed in 12.64s\n",
            "Train Loss: 1.1082, Train Acc: 60.19%\n",
            "Validation Loss: 1.3321, Validation Acc: 53.66%\n",
            "\n",
            "Epoch 107/300 completed in 12.48s\n",
            "Train Loss: 1.1096, Train Acc: 60.07%\n",
            "Validation Loss: 1.3469, Validation Acc: 52.99%\n",
            "\n",
            "Epoch 108/300 completed in 13.36s\n",
            "Train Loss: 1.1066, Train Acc: 60.29%\n",
            "Validation Loss: 1.3581, Validation Acc: 52.77%\n",
            "\n",
            "Epoch 109/300 completed in 12.53s\n",
            "Train Loss: 1.1039, Train Acc: 60.38%\n",
            "Validation Loss: 1.3250, Validation Acc: 53.33%\n",
            "\n",
            "Epoch 110/300 completed in 12.69s\n",
            "Train Loss: 1.1017, Train Acc: 60.27%\n",
            "Validation Loss: 1.3218, Validation Acc: 54.00%\n",
            "\n",
            "Epoch 111/300 completed in 12.60s\n",
            "Train Loss: 1.1038, Train Acc: 59.99%\n",
            "Validation Loss: 1.3306, Validation Acc: 53.73%\n",
            "\n",
            "Epoch 112/300 completed in 12.90s\n",
            "Train Loss: 1.1008, Train Acc: 60.67%\n",
            "Validation Loss: 1.3120, Validation Acc: 54.30%\n",
            "\n",
            "Epoch 113/300 completed in 13.34s\n",
            "Train Loss: 1.0995, Train Acc: 60.49%\n",
            "Validation Loss: 1.3387, Validation Acc: 53.47%\n",
            "\n",
            "Epoch 114/300 completed in 13.18s\n",
            "Train Loss: 1.0989, Train Acc: 60.59%\n",
            "Validation Loss: 1.3239, Validation Acc: 53.72%\n",
            "\n",
            "Epoch 115/300 completed in 12.55s\n",
            "Train Loss: 1.0974, Train Acc: 60.68%\n",
            "Validation Loss: 1.3250, Validation Acc: 53.83%\n",
            "\n",
            "Epoch 116/300 completed in 13.19s\n",
            "Train Loss: 1.0958, Train Acc: 60.51%\n",
            "Validation Loss: 1.3165, Validation Acc: 54.14%\n",
            "\n",
            "Epoch 117/300 completed in 12.56s\n",
            "Train Loss: 1.0910, Train Acc: 60.92%\n",
            "Validation Loss: 1.3302, Validation Acc: 53.54%\n",
            "\n",
            "Epoch 118/300 completed in 13.46s\n",
            "Train Loss: 1.0960, Train Acc: 60.55%\n",
            "Validation Loss: 1.3022, Validation Acc: 54.77%\n",
            "\n",
            "Epoch 119/300 completed in 12.90s\n",
            "Train Loss: 1.0906, Train Acc: 60.67%\n",
            "Validation Loss: 1.3165, Validation Acc: 54.01%\n",
            "\n",
            "Epoch 120/300 completed in 12.50s\n",
            "Train Loss: 1.0913, Train Acc: 60.73%\n",
            "Validation Loss: 1.3162, Validation Acc: 54.17%\n",
            "\n",
            "Epoch 121/300 completed in 13.36s\n",
            "Train Loss: 1.0889, Train Acc: 60.87%\n",
            "Validation Loss: 1.2912, Validation Acc: 54.87%\n",
            "\n",
            "Epoch 122/300 completed in 12.68s\n",
            "Train Loss: 1.0876, Train Acc: 60.78%\n",
            "Validation Loss: 1.3215, Validation Acc: 54.02%\n",
            "\n",
            "Epoch 123/300 completed in 12.96s\n",
            "Train Loss: 1.0829, Train Acc: 61.02%\n",
            "Validation Loss: 1.3100, Validation Acc: 54.34%\n",
            "\n",
            "Epoch 124/300 completed in 13.36s\n",
            "Train Loss: 1.0800, Train Acc: 61.41%\n",
            "Validation Loss: 1.2810, Validation Acc: 55.11%\n",
            "\n",
            "Epoch 125/300 completed in 13.38s\n",
            "Train Loss: 1.0788, Train Acc: 61.12%\n",
            "Validation Loss: 1.3262, Validation Acc: 53.72%\n",
            "\n",
            "Epoch 126/300 completed in 12.95s\n",
            "Train Loss: 1.0768, Train Acc: 61.13%\n",
            "Validation Loss: 1.2878, Validation Acc: 54.88%\n",
            "\n",
            "Epoch 127/300 completed in 12.78s\n",
            "Train Loss: 1.0776, Train Acc: 61.18%\n",
            "Validation Loss: 1.3180, Validation Acc: 54.15%\n",
            "\n",
            "Epoch 128/300 completed in 13.19s\n",
            "Train Loss: 1.0749, Train Acc: 61.44%\n",
            "Validation Loss: 1.2948, Validation Acc: 54.79%\n",
            "\n",
            "Epoch 129/300 completed in 12.54s\n",
            "Train Loss: 1.0757, Train Acc: 61.58%\n",
            "Validation Loss: 1.2828, Validation Acc: 55.15%\n",
            "\n",
            "Epoch 130/300 completed in 13.55s\n",
            "Train Loss: 1.0722, Train Acc: 61.42%\n",
            "Validation Loss: 1.2871, Validation Acc: 55.23%\n",
            "\n",
            "Epoch 131/300 completed in 12.73s\n",
            "Train Loss: 1.0728, Train Acc: 61.63%\n",
            "Validation Loss: 1.3126, Validation Acc: 54.38%\n",
            "\n",
            "Epoch 132/300 completed in 12.62s\n",
            "Train Loss: 1.0698, Train Acc: 61.60%\n",
            "Validation Loss: 1.3050, Validation Acc: 54.67%\n",
            "\n",
            "Epoch 133/300 completed in 12.76s\n",
            "Train Loss: 1.0684, Train Acc: 61.60%\n",
            "Validation Loss: 1.2774, Validation Acc: 55.48%\n",
            "\n",
            "Epoch 134/300 completed in 12.84s\n",
            "Train Loss: 1.0696, Train Acc: 61.64%\n",
            "Validation Loss: 1.2663, Validation Acc: 55.74%\n",
            "\n",
            "Epoch 135/300 completed in 12.62s\n",
            "Train Loss: 1.0673, Train Acc: 62.00%\n",
            "Validation Loss: 1.2797, Validation Acc: 55.53%\n",
            "\n",
            "Epoch 136/300 completed in 12.59s\n",
            "Train Loss: 1.0648, Train Acc: 61.57%\n",
            "Validation Loss: 1.2867, Validation Acc: 55.25%\n",
            "\n",
            "Epoch 137/300 completed in 12.60s\n",
            "Train Loss: 1.0632, Train Acc: 61.75%\n",
            "Validation Loss: 1.2851, Validation Acc: 55.41%\n",
            "\n",
            "Epoch 138/300 completed in 12.64s\n",
            "Train Loss: 1.0587, Train Acc: 62.11%\n",
            "Validation Loss: 1.2739, Validation Acc: 55.62%\n",
            "\n",
            "Epoch 139/300 completed in 12.67s\n",
            "Train Loss: 1.0591, Train Acc: 61.96%\n",
            "Validation Loss: 1.2610, Validation Acc: 56.14%\n",
            "\n",
            "Epoch 140/300 completed in 12.97s\n",
            "Train Loss: 1.0615, Train Acc: 61.99%\n",
            "Validation Loss: 1.2749, Validation Acc: 55.48%\n",
            "\n",
            "Epoch 141/300 completed in 12.73s\n",
            "Train Loss: 1.0541, Train Acc: 62.13%\n",
            "Validation Loss: 1.2774, Validation Acc: 55.56%\n",
            "\n",
            "Epoch 142/300 completed in 13.23s\n",
            "Train Loss: 1.0559, Train Acc: 62.03%\n",
            "Validation Loss: 1.2712, Validation Acc: 55.66%\n",
            "\n",
            "Epoch 143/300 completed in 12.66s\n",
            "Train Loss: 1.0536, Train Acc: 62.05%\n",
            "Validation Loss: 1.2765, Validation Acc: 55.45%\n",
            "\n",
            "Epoch 144/300 completed in 13.44s\n",
            "Train Loss: 1.0511, Train Acc: 62.51%\n",
            "Validation Loss: 1.2776, Validation Acc: 55.64%\n",
            "\n",
            "Epoch 145/300 completed in 13.09s\n",
            "Train Loss: 1.0511, Train Acc: 62.35%\n",
            "Validation Loss: 1.2582, Validation Acc: 56.10%\n",
            "\n",
            "Epoch 146/300 completed in 12.62s\n",
            "Train Loss: 1.0530, Train Acc: 62.27%\n",
            "Validation Loss: 1.2792, Validation Acc: 55.56%\n",
            "\n",
            "Epoch 147/300 completed in 13.19s\n",
            "Train Loss: 1.0518, Train Acc: 62.19%\n",
            "Validation Loss: 1.2803, Validation Acc: 55.62%\n",
            "\n",
            "Epoch 148/300 completed in 13.52s\n",
            "Train Loss: 1.0475, Train Acc: 62.60%\n",
            "Validation Loss: 1.2444, Validation Acc: 56.67%\n",
            "\n",
            "Epoch 149/300 completed in 13.48s\n",
            "Train Loss: 1.0441, Train Acc: 62.32%\n",
            "Validation Loss: 1.2552, Validation Acc: 56.20%\n",
            "\n",
            "Epoch 150/300 completed in 12.98s\n",
            "Train Loss: 1.0413, Train Acc: 62.61%\n",
            "Validation Loss: 1.2293, Validation Acc: 57.09%\n",
            "\n",
            "Epoch 151/300 completed in 13.29s\n",
            "Train Loss: 1.0444, Train Acc: 62.58%\n",
            "Validation Loss: 1.2272, Validation Acc: 57.15%\n",
            "\n",
            "Epoch 152/300 completed in 12.59s\n",
            "Train Loss: 1.0409, Train Acc: 62.59%\n",
            "Validation Loss: 1.2313, Validation Acc: 57.04%\n",
            "\n",
            "Epoch 153/300 completed in 12.44s\n",
            "Train Loss: 1.0379, Train Acc: 62.53%\n",
            "Validation Loss: 1.2412, Validation Acc: 56.86%\n",
            "\n",
            "Epoch 154/300 completed in 12.73s\n",
            "Train Loss: 1.0342, Train Acc: 62.98%\n",
            "Validation Loss: 1.2266, Validation Acc: 57.21%\n",
            "\n",
            "Epoch 155/300 completed in 12.69s\n",
            "Train Loss: 1.0335, Train Acc: 62.97%\n",
            "Validation Loss: 1.2307, Validation Acc: 57.32%\n",
            "\n"
          ]
        },
        {
          "name": "stderr",
          "output_type": "stream",
          "text": [
            "Exception ignored in: <function _MultiProcessingDataLoaderIter.__del__ at 0x7868d048a7a0>\n",
            "Traceback (most recent call last):\n",
            "  File \"/usr/local/lib/python3.11/dist-packages/torch/utils/data/dataloader.py\", line 1604, in __del__\n",
            "    self._shutdown_workers()\n",
            "  File \"/usr/local/lib/python3.11/dist-packages/torch/utils/data/dataloader.py\", line 1587, in _shutdown_workers\n",
            "    if w.is_alive():\n",
            "  Exception ignored in: <function _MultiProcessingDataLoaderIter.__del__ at 0x7868d048a7a0>  \n",
            " Traceback (most recent call last):\n",
            "   File \"/usr/local/lib/python3.11/dist-packages/torch/utils/data/dataloader.py\", line 1604, in __del__\n",
            "     ^self._shutdown_workers()^\n",
            "^  File \"/usr/local/lib/python3.11/dist-packages/torch/utils/data/dataloader.py\", line 1587, in _shutdown_workers\n",
            "^^    ^if w.is_alive():^\n",
            "^ ^ ^ ^ ^ \n",
            "   File \"/usr/lib/python3.11/multiprocessing/process.py\", line 160, in is_alive\n",
            "     ^assert self._parent_pid == os.getpid(), 'can only test a child process'^\n",
            "^ ^ ^ ^ ^ ^ ^ ^ ^  ^ \n",
            "^  File \"/usr/lib/python3.11/multiprocessing/process.py\", line 160, in is_alive\n",
            "^    ^assert self._parent_pid == os.getpid(), 'can only test a child process'^\n",
            "^ ^ ^ ^ ^ ^ ^ ^ ^ ^ ^ ^^^^^^^^^^^^^^^^^^^^^^^^^^^^^^^^\n",
            "^AssertionError^: ^can only test a child process^\n",
            "^^^^^^^^^^^\n",
            "AssertionError: can only test a child process\n"
          ]
        },
        {
          "name": "stdout",
          "output_type": "stream",
          "text": [
            "Epoch 156/300 completed in 13.48s\n",
            "Train Loss: 1.0375, Train Acc: 63.02%\n",
            "Validation Loss: 1.2442, Validation Acc: 56.70%\n",
            "\n",
            "Epoch 157/300 completed in 14.25s\n",
            "Train Loss: 1.0336, Train Acc: 63.09%\n",
            "Validation Loss: 1.2302, Validation Acc: 57.13%\n",
            "\n",
            "Epoch 158/300 completed in 13.08s\n",
            "Train Loss: 1.0342, Train Acc: 63.20%\n",
            "Validation Loss: 1.2469, Validation Acc: 56.66%\n",
            "\n",
            "Epoch 159/300 completed in 13.53s\n",
            "Train Loss: 1.0299, Train Acc: 62.88%\n",
            "Validation Loss: 1.2368, Validation Acc: 57.18%\n",
            "\n",
            "Epoch 160/300 completed in 12.66s\n",
            "Train Loss: 1.0284, Train Acc: 63.22%\n",
            "Validation Loss: 1.2397, Validation Acc: 56.90%\n",
            "\n",
            "Epoch 161/300 completed in 13.23s\n",
            "Train Loss: 1.0318, Train Acc: 63.18%\n",
            "Validation Loss: 1.2207, Validation Acc: 57.48%\n",
            "\n",
            "Epoch 162/300 completed in 13.77s\n",
            "Train Loss: 1.0281, Train Acc: 63.35%\n",
            "Validation Loss: 1.2071, Validation Acc: 57.95%\n",
            "\n",
            "Epoch 163/300 completed in 12.72s\n",
            "Train Loss: 1.0270, Train Acc: 63.44%\n",
            "Validation Loss: 1.2295, Validation Acc: 57.47%\n",
            "\n",
            "Epoch 164/300 completed in 12.91s\n",
            "Train Loss: 1.0231, Train Acc: 63.46%\n",
            "Validation Loss: 1.2167, Validation Acc: 57.80%\n",
            "\n",
            "Epoch 165/300 completed in 13.49s\n",
            "Train Loss: 1.0225, Train Acc: 63.41%\n",
            "Validation Loss: 1.2151, Validation Acc: 57.73%\n",
            "\n",
            "Epoch 166/300 completed in 13.41s\n",
            "Train Loss: 1.0189, Train Acc: 63.59%\n",
            "Validation Loss: 1.1994, Validation Acc: 58.27%\n",
            "\n",
            "Epoch 167/300 completed in 13.09s\n",
            "Train Loss: 1.0183, Train Acc: 63.64%\n",
            "Validation Loss: 1.2212, Validation Acc: 57.55%\n",
            "\n",
            "Epoch 168/300 completed in 12.52s\n",
            "Train Loss: 1.0177, Train Acc: 63.87%\n",
            "Validation Loss: 1.2263, Validation Acc: 57.51%\n",
            "\n",
            "Epoch 169/300 completed in 13.39s\n",
            "Train Loss: 1.0196, Train Acc: 63.55%\n",
            "Validation Loss: 1.1989, Validation Acc: 58.22%\n",
            "\n",
            "Epoch 170/300 completed in 13.14s\n",
            "Train Loss: 1.0145, Train Acc: 63.84%\n",
            "Validation Loss: 1.1979, Validation Acc: 58.30%\n",
            "\n",
            "Epoch 171/300 completed in 12.89s\n",
            "Train Loss: 1.0164, Train Acc: 63.80%\n",
            "Validation Loss: 1.1867, Validation Acc: 58.60%\n",
            "\n",
            "Epoch 172/300 completed in 12.72s\n",
            "Train Loss: 1.0163, Train Acc: 63.51%\n",
            "Validation Loss: 1.2140, Validation Acc: 57.88%\n",
            "\n",
            "Epoch 173/300 completed in 12.64s\n",
            "Train Loss: 1.0131, Train Acc: 63.89%\n",
            "Validation Loss: 1.2330, Validation Acc: 57.19%\n",
            "\n",
            "Epoch 174/300 completed in 12.60s\n",
            "Train Loss: 1.0069, Train Acc: 64.06%\n",
            "Validation Loss: 1.2036, Validation Acc: 57.96%\n",
            "\n",
            "Epoch 175/300 completed in 13.23s\n",
            "Train Loss: 1.0084, Train Acc: 63.99%\n",
            "Validation Loss: 1.1836, Validation Acc: 58.71%\n",
            "\n",
            "Epoch 176/300 completed in 12.85s\n",
            "Train Loss: 1.0087, Train Acc: 63.98%\n",
            "Validation Loss: 1.2154, Validation Acc: 57.92%\n",
            "\n",
            "Epoch 177/300 completed in 13.30s\n",
            "Train Loss: 1.0089, Train Acc: 63.92%\n",
            "Validation Loss: 1.1847, Validation Acc: 58.40%\n",
            "\n",
            "Epoch 178/300 completed in 12.78s\n",
            "Train Loss: 1.0054, Train Acc: 64.14%\n",
            "Validation Loss: 1.2026, Validation Acc: 58.27%\n",
            "\n",
            "Epoch 179/300 completed in 12.97s\n",
            "Train Loss: 1.0061, Train Acc: 64.34%\n",
            "Validation Loss: 1.1910, Validation Acc: 58.51%\n",
            "\n",
            "Epoch 180/300 completed in 14.06s\n",
            "Train Loss: 1.0017, Train Acc: 64.28%\n",
            "Validation Loss: 1.1846, Validation Acc: 58.76%\n",
            "\n",
            "Epoch 181/300 completed in 13.39s\n",
            "Train Loss: 1.0016, Train Acc: 64.37%\n",
            "Validation Loss: 1.1832, Validation Acc: 58.69%\n",
            "\n",
            "Epoch 182/300 completed in 12.73s\n",
            "Train Loss: 1.0010, Train Acc: 64.16%\n",
            "Validation Loss: 1.1902, Validation Acc: 58.53%\n",
            "\n",
            "Epoch 183/300 completed in 12.99s\n",
            "Train Loss: 1.0007, Train Acc: 64.15%\n",
            "Validation Loss: 1.1908, Validation Acc: 58.52%\n",
            "\n",
            "Epoch 184/300 completed in 12.84s\n",
            "Train Loss: 1.0020, Train Acc: 64.28%\n",
            "Validation Loss: 1.1862, Validation Acc: 58.80%\n",
            "\n",
            "Epoch 185/300 completed in 13.54s\n",
            "Train Loss: 0.9926, Train Acc: 64.51%\n",
            "Validation Loss: 1.1905, Validation Acc: 58.61%\n",
            "\n",
            "Epoch 186/300 completed in 12.66s\n",
            "Train Loss: 0.9951, Train Acc: 64.40%\n",
            "Validation Loss: 1.1745, Validation Acc: 59.10%\n",
            "\n",
            "Epoch 187/300 completed in 14.30s\n",
            "Train Loss: 0.9944, Train Acc: 64.49%\n",
            "Validation Loss: 1.1749, Validation Acc: 59.13%\n",
            "\n",
            "Epoch 188/300 completed in 12.74s\n",
            "Train Loss: 0.9943, Train Acc: 64.19%\n",
            "Validation Loss: 1.1767, Validation Acc: 58.91%\n",
            "\n",
            "Epoch 189/300 completed in 13.41s\n",
            "Train Loss: 0.9947, Train Acc: 64.31%\n",
            "Validation Loss: 1.1658, Validation Acc: 59.36%\n",
            "\n",
            "Epoch 190/300 completed in 12.88s\n",
            "Train Loss: 0.9929, Train Acc: 64.78%\n",
            "Validation Loss: 1.1840, Validation Acc: 58.84%\n",
            "\n",
            "Epoch 191/300 completed in 13.19s\n",
            "Train Loss: 0.9880, Train Acc: 64.81%\n",
            "Validation Loss: 1.1780, Validation Acc: 59.04%\n",
            "\n",
            "Epoch 192/300 completed in 13.13s\n",
            "Train Loss: 0.9895, Train Acc: 64.76%\n",
            "Validation Loss: 1.1839, Validation Acc: 58.89%\n",
            "\n",
            "Epoch 193/300 completed in 12.86s\n",
            "Train Loss: 0.9852, Train Acc: 64.83%\n",
            "Validation Loss: 1.1695, Validation Acc: 59.38%\n",
            "\n",
            "Epoch 194/300 completed in 13.08s\n",
            "Train Loss: 0.9842, Train Acc: 64.83%\n",
            "Validation Loss: 1.1590, Validation Acc: 59.53%\n",
            "\n",
            "Epoch 195/300 completed in 12.88s\n",
            "Train Loss: 0.9831, Train Acc: 64.91%\n",
            "Validation Loss: 1.1518, Validation Acc: 59.72%\n",
            "\n",
            "Epoch 196/300 completed in 12.64s\n",
            "Train Loss: 0.9830, Train Acc: 64.95%\n",
            "Validation Loss: 1.1442, Validation Acc: 59.91%\n",
            "\n",
            "Epoch 197/300 completed in 13.99s\n",
            "Train Loss: 0.9799, Train Acc: 64.93%\n",
            "Validation Loss: 1.1432, Validation Acc: 60.13%\n",
            "\n",
            "Epoch 198/300 completed in 12.66s\n",
            "Train Loss: 0.9800, Train Acc: 65.09%\n",
            "Validation Loss: 1.1651, Validation Acc: 59.58%\n",
            "\n",
            "Epoch 199/300 completed in 12.93s\n",
            "Train Loss: 0.9788, Train Acc: 64.93%\n",
            "Validation Loss: 1.1647, Validation Acc: 59.35%\n",
            "\n",
            "Epoch 200/300 completed in 12.79s\n",
            "Train Loss: 0.9754, Train Acc: 65.17%\n",
            "Validation Loss: 1.1709, Validation Acc: 59.38%\n",
            "\n",
            "Epoch 201/300 completed in 13.18s\n",
            "Train Loss: 0.9774, Train Acc: 65.03%\n",
            "Validation Loss: 1.1539, Validation Acc: 59.88%\n",
            "\n",
            "Epoch 202/300 completed in 12.95s\n",
            "Train Loss: 0.9754, Train Acc: 65.42%\n",
            "Validation Loss: 1.1724, Validation Acc: 59.36%\n",
            "\n",
            "Epoch 203/300 completed in 13.44s\n",
            "Train Loss: 0.9721, Train Acc: 65.24%\n",
            "Validation Loss: 1.1775, Validation Acc: 59.37%\n",
            "\n",
            "Epoch 204/300 completed in 12.93s\n",
            "Train Loss: 0.9709, Train Acc: 65.59%\n",
            "Validation Loss: 1.1599, Validation Acc: 59.59%\n",
            "\n",
            "Epoch 205/300 completed in 13.27s\n",
            "Train Loss: 0.9711, Train Acc: 65.48%\n",
            "Validation Loss: 1.1575, Validation Acc: 59.59%\n",
            "\n",
            "Epoch 206/300 completed in 13.50s\n",
            "Train Loss: 0.9700, Train Acc: 65.33%\n",
            "Validation Loss: 1.1596, Validation Acc: 59.83%\n",
            "\n",
            "Epoch 207/300 completed in 12.97s\n",
            "Train Loss: 0.9673, Train Acc: 65.49%\n",
            "Validation Loss: 1.1540, Validation Acc: 59.71%\n",
            "\n",
            "Epoch 208/300 completed in 13.36s\n",
            "Train Loss: 0.9664, Train Acc: 65.77%\n",
            "Validation Loss: 1.1440, Validation Acc: 60.21%\n",
            "\n",
            "Epoch 209/300 completed in 13.51s\n",
            "Train Loss: 0.9661, Train Acc: 65.59%\n",
            "Validation Loss: 1.1333, Validation Acc: 60.65%\n",
            "\n",
            "Epoch 210/300 completed in 13.10s\n",
            "Train Loss: 0.9639, Train Acc: 65.85%\n",
            "Validation Loss: 1.1467, Validation Acc: 59.90%\n",
            "\n",
            "Epoch 211/300 completed in 12.80s\n",
            "Train Loss: 0.9658, Train Acc: 65.47%\n",
            "Validation Loss: 1.1448, Validation Acc: 60.18%\n",
            "\n",
            "Epoch 212/300 completed in 12.74s\n",
            "Train Loss: 0.9612, Train Acc: 65.72%\n",
            "Validation Loss: 1.1246, Validation Acc: 60.88%\n",
            "\n",
            "Epoch 213/300 completed in 14.00s\n",
            "Train Loss: 0.9609, Train Acc: 65.75%\n",
            "Validation Loss: 1.1351, Validation Acc: 60.69%\n",
            "\n",
            "Epoch 214/300 completed in 13.02s\n",
            "Train Loss: 0.9576, Train Acc: 65.95%\n",
            "Validation Loss: 1.1558, Validation Acc: 59.85%\n",
            "\n",
            "Epoch 215/300 completed in 12.95s\n",
            "Train Loss: 0.9606, Train Acc: 65.60%\n",
            "Validation Loss: 1.1187, Validation Acc: 61.12%\n",
            "\n",
            "Epoch 216/300 completed in 13.13s\n",
            "Train Loss: 0.9597, Train Acc: 65.64%\n",
            "Validation Loss: 1.1287, Validation Acc: 60.63%\n",
            "\n",
            "Epoch 217/300 completed in 12.90s\n",
            "Train Loss: 0.9569, Train Acc: 66.10%\n",
            "Validation Loss: 1.1341, Validation Acc: 60.68%\n",
            "\n",
            "Epoch 218/300 completed in 13.60s\n",
            "Train Loss: 0.9501, Train Acc: 66.14%\n",
            "Validation Loss: 1.1243, Validation Acc: 60.86%\n",
            "\n",
            "Epoch 219/300 completed in 12.93s\n",
            "Train Loss: 0.9551, Train Acc: 65.94%\n",
            "Validation Loss: 1.1146, Validation Acc: 61.27%\n",
            "\n",
            "Epoch 220/300 completed in 13.28s\n",
            "Train Loss: 0.9525, Train Acc: 66.23%\n",
            "Validation Loss: 1.1001, Validation Acc: 61.69%\n",
            "\n",
            "Epoch 221/300 completed in 12.68s\n",
            "Train Loss: 0.9509, Train Acc: 66.20%\n",
            "Validation Loss: 1.1614, Validation Acc: 59.77%\n",
            "\n",
            "Epoch 222/300 completed in 14.26s\n",
            "Train Loss: 0.9519, Train Acc: 66.11%\n",
            "Validation Loss: 1.1010, Validation Acc: 61.87%\n",
            "\n",
            "Epoch 223/300 completed in 13.25s\n",
            "Train Loss: 0.9472, Train Acc: 66.30%\n",
            "Validation Loss: 1.1308, Validation Acc: 61.04%\n",
            "\n",
            "Epoch 224/300 completed in 13.02s\n",
            "Train Loss: 0.9547, Train Acc: 66.03%\n",
            "Validation Loss: 1.1329, Validation Acc: 60.99%\n",
            "\n",
            "Epoch 225/300 completed in 12.63s\n",
            "Train Loss: 0.9507, Train Acc: 66.32%\n",
            "Validation Loss: 1.1008, Validation Acc: 61.70%\n",
            "\n",
            "Epoch 226/300 completed in 12.63s\n",
            "Train Loss: 0.9427, Train Acc: 66.81%\n",
            "Validation Loss: 1.1169, Validation Acc: 61.37%\n",
            "\n",
            "Epoch 227/300 completed in 13.10s\n",
            "Train Loss: 0.9442, Train Acc: 66.33%\n",
            "Validation Loss: 1.1124, Validation Acc: 61.39%\n",
            "\n",
            "Epoch 228/300 completed in 12.67s\n",
            "Train Loss: 0.9422, Train Acc: 66.49%\n",
            "Validation Loss: 1.1052, Validation Acc: 61.78%\n",
            "\n",
            "Epoch 229/300 completed in 13.93s\n",
            "Train Loss: 0.9413, Train Acc: 66.44%\n",
            "Validation Loss: 1.1116, Validation Acc: 61.59%\n",
            "\n",
            "Epoch 230/300 completed in 13.19s\n",
            "Train Loss: 0.9444, Train Acc: 66.28%\n",
            "Validation Loss: 1.0961, Validation Acc: 61.82%\n",
            "\n",
            "Epoch 231/300 completed in 13.04s\n",
            "Train Loss: 0.9402, Train Acc: 66.47%\n",
            "Validation Loss: 1.1204, Validation Acc: 61.42%\n",
            "\n",
            "Epoch 232/300 completed in 12.65s\n",
            "Train Loss: 0.9394, Train Acc: 66.58%\n",
            "Validation Loss: 1.1049, Validation Acc: 61.68%\n",
            "\n",
            "Epoch 233/300 completed in 12.64s\n",
            "Train Loss: 0.9409, Train Acc: 66.81%\n",
            "Validation Loss: 1.1047, Validation Acc: 61.71%\n",
            "\n",
            "Epoch 234/300 completed in 13.35s\n",
            "Train Loss: 0.9385, Train Acc: 66.30%\n",
            "Validation Loss: 1.1078, Validation Acc: 61.56%\n",
            "\n",
            "Epoch 235/300 completed in 12.71s\n",
            "Train Loss: 0.9379, Train Acc: 66.64%\n",
            "Validation Loss: 1.0925, Validation Acc: 61.85%\n",
            "\n",
            "Epoch 236/300 completed in 12.96s\n",
            "Train Loss: 0.9374, Train Acc: 66.53%\n",
            "Validation Loss: 1.0936, Validation Acc: 61.98%\n",
            "\n",
            "Epoch 237/300 completed in 13.61s\n",
            "Train Loss: 0.9367, Train Acc: 66.83%\n",
            "Validation Loss: 1.0932, Validation Acc: 62.23%\n",
            "\n",
            "Epoch 238/300 completed in 13.19s\n",
            "Train Loss: 0.9296, Train Acc: 67.22%\n",
            "Validation Loss: 1.1202, Validation Acc: 61.61%\n",
            "\n",
            "Epoch 239/300 completed in 12.79s\n",
            "Train Loss: 0.9354, Train Acc: 66.58%\n",
            "Validation Loss: 1.1015, Validation Acc: 61.96%\n",
            "\n",
            "Epoch 240/300 completed in 12.59s\n",
            "Train Loss: 0.9332, Train Acc: 66.83%\n",
            "Validation Loss: 1.1087, Validation Acc: 61.69%\n",
            "\n",
            "Epoch 241/300 completed in 13.78s\n",
            "Train Loss: 0.9291, Train Acc: 66.95%\n",
            "Validation Loss: 1.1007, Validation Acc: 61.99%\n",
            "\n",
            "Epoch 242/300 completed in 12.69s\n",
            "Train Loss: 0.9306, Train Acc: 66.86%\n",
            "Validation Loss: 1.0890, Validation Acc: 62.14%\n",
            "\n",
            "Epoch 243/300 completed in 12.78s\n",
            "Train Loss: 0.9239, Train Acc: 67.21%\n",
            "Validation Loss: 1.0796, Validation Acc: 62.63%\n",
            "\n",
            "Epoch 244/300 completed in 12.62s\n",
            "Train Loss: 0.9265, Train Acc: 67.11%\n",
            "Validation Loss: 1.1036, Validation Acc: 62.04%\n",
            "\n",
            "Epoch 245/300 completed in 12.66s\n",
            "Train Loss: 0.9222, Train Acc: 67.14%\n",
            "Validation Loss: 1.1042, Validation Acc: 61.77%\n",
            "\n",
            "Epoch 246/300 completed in 12.92s\n",
            "Train Loss: 0.9202, Train Acc: 67.28%\n",
            "Validation Loss: 1.0766, Validation Acc: 62.60%\n",
            "\n",
            "Epoch 247/300 completed in 13.12s\n",
            "Train Loss: 0.9246, Train Acc: 67.17%\n",
            "Validation Loss: 1.1104, Validation Acc: 61.47%\n",
            "\n",
            "Epoch 248/300 completed in 12.90s\n",
            "Train Loss: 0.9259, Train Acc: 66.75%\n",
            "Validation Loss: 1.1101, Validation Acc: 61.65%\n",
            "\n",
            "Epoch 249/300 completed in 12.92s\n",
            "Train Loss: 0.9198, Train Acc: 67.30%\n",
            "Validation Loss: 1.0665, Validation Acc: 63.08%\n",
            "\n",
            "Epoch 250/300 completed in 13.66s\n",
            "Train Loss: 0.9226, Train Acc: 67.24%\n",
            "Validation Loss: 1.0839, Validation Acc: 62.43%\n",
            "\n",
            "Epoch 251/300 completed in 12.93s\n",
            "Train Loss: 0.9214, Train Acc: 67.18%\n",
            "Validation Loss: 1.0824, Validation Acc: 62.55%\n",
            "\n",
            "Epoch 252/300 completed in 12.70s\n",
            "Train Loss: 0.9181, Train Acc: 67.35%\n",
            "Validation Loss: 1.0816, Validation Acc: 62.59%\n",
            "\n",
            "Epoch 253/300 completed in 12.77s\n",
            "Train Loss: 0.9173, Train Acc: 67.31%\n",
            "Validation Loss: 1.0748, Validation Acc: 62.93%\n",
            "\n",
            "Epoch 254/300 completed in 12.77s\n",
            "Train Loss: 0.9153, Train Acc: 67.32%\n",
            "Validation Loss: 1.0828, Validation Acc: 62.51%\n",
            "\n",
            "Epoch 255/300 completed in 13.41s\n",
            "Train Loss: 0.9176, Train Acc: 67.33%\n",
            "Validation Loss: 1.0766, Validation Acc: 62.71%\n",
            "\n",
            "Epoch 256/300 completed in 12.63s\n",
            "Train Loss: 0.9092, Train Acc: 67.59%\n",
            "Validation Loss: 1.0949, Validation Acc: 62.31%\n",
            "\n",
            "Epoch 257/300 completed in 12.66s\n",
            "Train Loss: 0.9129, Train Acc: 67.55%\n",
            "Validation Loss: 1.0750, Validation Acc: 62.95%\n",
            "\n",
            "Epoch 258/300 completed in 12.78s\n",
            "Train Loss: 0.9144, Train Acc: 67.46%\n",
            "Validation Loss: 1.0729, Validation Acc: 62.83%\n",
            "\n",
            "Epoch 259/300 completed in 12.96s\n",
            "Train Loss: 0.9086, Train Acc: 67.94%\n",
            "Validation Loss: 1.0847, Validation Acc: 62.46%\n",
            "\n",
            "Epoch 260/300 completed in 13.71s\n",
            "Train Loss: 0.9113, Train Acc: 67.44%\n",
            "Validation Loss: 1.0670, Validation Acc: 63.19%\n",
            "\n",
            "Epoch 261/300 completed in 12.95s\n",
            "Train Loss: 0.9086, Train Acc: 67.88%\n",
            "Validation Loss: 1.0731, Validation Acc: 62.97%\n",
            "\n",
            "Epoch 262/300 completed in 13.18s\n",
            "Train Loss: 0.9082, Train Acc: 67.94%\n",
            "Validation Loss: 1.0671, Validation Acc: 63.01%\n",
            "\n",
            "Epoch 263/300 completed in 13.25s\n",
            "Train Loss: 0.9056, Train Acc: 67.69%\n",
            "Validation Loss: 1.0613, Validation Acc: 63.24%\n",
            "\n",
            "Epoch 264/300 completed in 12.74s\n",
            "Train Loss: 0.9060, Train Acc: 67.84%\n",
            "Validation Loss: 1.0682, Validation Acc: 63.17%\n",
            "\n",
            "Epoch 265/300 completed in 12.97s\n",
            "Train Loss: 0.9046, Train Acc: 67.88%\n",
            "Validation Loss: 1.0622, Validation Acc: 63.31%\n",
            "\n",
            "Epoch 266/300 completed in 12.98s\n",
            "Train Loss: 0.9025, Train Acc: 68.14%\n",
            "Validation Loss: 1.0765, Validation Acc: 63.00%\n",
            "\n",
            "Epoch 267/300 completed in 12.91s\n",
            "Train Loss: 0.9042, Train Acc: 67.98%\n",
            "Validation Loss: 1.0758, Validation Acc: 62.97%\n",
            "\n",
            "Epoch 268/300 completed in 12.68s\n",
            "Train Loss: 0.9025, Train Acc: 68.20%\n",
            "Validation Loss: 1.0786, Validation Acc: 63.07%\n",
            "\n",
            "Epoch 269/300 completed in 12.80s\n",
            "Train Loss: 0.8983, Train Acc: 68.08%\n",
            "Validation Loss: 1.0654, Validation Acc: 62.92%\n",
            "\n",
            "Epoch 270/300 completed in 13.27s\n",
            "Train Loss: 0.8956, Train Acc: 68.30%\n",
            "Validation Loss: 1.0562, Validation Acc: 63.61%\n",
            "\n",
            "Epoch 271/300 completed in 13.08s\n",
            "Train Loss: 0.8997, Train Acc: 68.00%\n",
            "Validation Loss: 1.0659, Validation Acc: 63.17%\n",
            "\n",
            "Epoch 272/300 completed in 12.68s\n",
            "Train Loss: 0.8956, Train Acc: 68.25%\n",
            "Validation Loss: 1.0523, Validation Acc: 63.64%\n",
            "\n",
            "Epoch 273/300 completed in 12.95s\n",
            "Train Loss: 0.8984, Train Acc: 68.30%\n",
            "Validation Loss: 1.0457, Validation Acc: 63.80%\n",
            "\n",
            "Epoch 274/300 completed in 13.15s\n",
            "Train Loss: 0.8949, Train Acc: 68.41%\n",
            "Validation Loss: 1.0727, Validation Acc: 63.06%\n",
            "\n",
            "Epoch 275/300 completed in 12.87s\n",
            "Train Loss: 0.8946, Train Acc: 67.96%\n",
            "Validation Loss: 1.0565, Validation Acc: 63.49%\n",
            "\n",
            "Epoch 276/300 completed in 12.70s\n",
            "Train Loss: 0.8877, Train Acc: 68.48%\n",
            "Validation Loss: 1.0524, Validation Acc: 63.58%\n",
            "\n",
            "Epoch 277/300 completed in 13.06s\n",
            "Train Loss: 0.8901, Train Acc: 68.42%\n",
            "Validation Loss: 1.0544, Validation Acc: 63.71%\n",
            "\n",
            "Epoch 278/300 completed in 12.59s\n",
            "Train Loss: 0.8953, Train Acc: 68.31%\n",
            "Validation Loss: 1.0501, Validation Acc: 63.67%\n",
            "\n",
            "Epoch 279/300 completed in 12.79s\n",
            "Train Loss: 0.8860, Train Acc: 68.81%\n",
            "Validation Loss: 1.0495, Validation Acc: 63.76%\n",
            "\n",
            "Epoch 280/300 completed in 13.33s\n",
            "Train Loss: 0.8902, Train Acc: 68.45%\n",
            "Validation Loss: 1.0584, Validation Acc: 63.44%\n",
            "\n",
            "Epoch 281/300 completed in 12.87s\n",
            "Train Loss: 0.8860, Train Acc: 68.39%\n",
            "Validation Loss: 1.0390, Validation Acc: 64.07%\n",
            "\n",
            "Epoch 282/300 completed in 13.28s\n",
            "Train Loss: 0.8882, Train Acc: 68.58%\n",
            "Validation Loss: 1.0531, Validation Acc: 63.46%\n",
            "\n",
            "Epoch 283/300 completed in 12.80s\n",
            "Train Loss: 0.8862, Train Acc: 68.51%\n",
            "Validation Loss: 1.0420, Validation Acc: 64.04%\n",
            "\n",
            "Epoch 284/300 completed in 12.91s\n",
            "Train Loss: 0.8872, Train Acc: 68.84%\n",
            "Validation Loss: 1.0526, Validation Acc: 63.57%\n",
            "\n",
            "Epoch 285/300 completed in 12.85s\n",
            "Train Loss: 0.8846, Train Acc: 68.84%\n",
            "Validation Loss: 1.0361, Validation Acc: 64.05%\n",
            "\n",
            "Epoch 286/300 completed in 12.68s\n",
            "Train Loss: 0.8827, Train Acc: 68.81%\n",
            "Validation Loss: 1.0399, Validation Acc: 63.96%\n",
            "\n",
            "Epoch 287/300 completed in 12.87s\n",
            "Train Loss: 0.8816, Train Acc: 68.86%\n",
            "Validation Loss: 1.0338, Validation Acc: 64.29%\n",
            "\n",
            "Epoch 288/300 completed in 13.32s\n",
            "Train Loss: 0.8796, Train Acc: 68.86%\n",
            "Validation Loss: 1.0453, Validation Acc: 63.93%\n",
            "\n",
            "Epoch 289/300 completed in 12.71s\n",
            "Train Loss: 0.8763, Train Acc: 68.98%\n",
            "Validation Loss: 1.0354, Validation Acc: 64.08%\n",
            "\n",
            "Epoch 290/300 completed in 12.97s\n",
            "Train Loss: 0.8761, Train Acc: 69.11%\n",
            "Validation Loss: 1.0569, Validation Acc: 63.60%\n",
            "\n",
            "Epoch 291/300 completed in 12.75s\n",
            "Train Loss: 0.8767, Train Acc: 68.96%\n",
            "Validation Loss: 1.0402, Validation Acc: 63.87%\n",
            "\n",
            "Epoch 292/300 completed in 13.17s\n",
            "Train Loss: 0.8747, Train Acc: 68.74%\n",
            "Validation Loss: 1.0165, Validation Acc: 64.79%\n",
            "\n",
            "Epoch 293/300 completed in 13.10s\n",
            "Train Loss: 0.8741, Train Acc: 69.01%\n",
            "Validation Loss: 1.0387, Validation Acc: 64.29%\n",
            "\n",
            "Epoch 294/300 completed in 12.84s\n",
            "Train Loss: 0.8744, Train Acc: 68.98%\n",
            "Validation Loss: 1.0188, Validation Acc: 64.53%\n",
            "\n",
            "Epoch 295/300 completed in 12.91s\n",
            "Train Loss: 0.8725, Train Acc: 68.98%\n",
            "Validation Loss: 1.0269, Validation Acc: 64.41%\n",
            "\n",
            "Epoch 296/300 completed in 12.62s\n",
            "Train Loss: 0.8733, Train Acc: 69.05%\n",
            "Validation Loss: 1.0392, Validation Acc: 64.13%\n",
            "\n",
            "Epoch 297/300 completed in 13.63s\n",
            "Train Loss: 0.8715, Train Acc: 69.17%\n",
            "Validation Loss: 1.0199, Validation Acc: 64.66%\n",
            "\n",
            "Epoch 298/300 completed in 12.53s\n",
            "Train Loss: 0.8712, Train Acc: 69.21%\n",
            "Validation Loss: 1.0323, Validation Acc: 64.36%\n",
            "\n",
            "Epoch 299/300 completed in 12.74s\n",
            "Train Loss: 0.8710, Train Acc: 69.08%\n",
            "Validation Loss: 1.0218, Validation Acc: 64.56%\n",
            "\n",
            "Epoch 300/300 completed in 13.18s\n",
            "Train Loss: 0.8675, Train Acc: 69.51%\n",
            "Validation Loss: 1.0268, Validation Acc: 64.56%\n",
            "\n",
            "Training complete! Best validation accuracy: 64.79% at epoch 292.\n"
          ]
        }
      ],
      "source": [
        "# Initialize variables to track the best validation accuracy and corresponding epoch\n",
        "best_val_acc = 0.0\n",
        "best_epoch = 0\n",
        "\n",
        "# Training loop\n",
        "for epoch in range(num_epochs):\n",
        "    epoch_start = time.time()\n",
        "\n",
        "    # Training phase\n",
        "    model.train()\n",
        "    running_loss = 0.0\n",
        "    train_correct = 0\n",
        "    train_total = 0\n",
        "    for inputs, labels in train_loader:\n",
        "        inputs, labels = inputs.to(device), labels.to(device)\n",
        "        optimizer.zero_grad()\n",
        "        outputs = model(inputs)\n",
        "        loss = criterion(outputs, labels)\n",
        "        loss.backward()\n",
        "        optimizer.step()\n",
        "\n",
        "        running_loss += loss.item()\n",
        "        _, preds = torch.max(outputs, 1)\n",
        "        train_total += labels.size(0)\n",
        "        train_correct += (preds == labels).sum().item()\n",
        "\n",
        "    train_loss = running_loss / len(train_loader)\n",
        "    train_acc = 100 * train_correct / train_total\n",
        "\n",
        "    # Validation phase\n",
        "    model.eval()\n",
        "    val_loss = 0.0\n",
        "    correct = 0\n",
        "    total = 0\n",
        "    with torch.no_grad():\n",
        "        for inputs, labels in test_loader:\n",
        "            inputs, labels = inputs.to(device), labels.to(device)\n",
        "            outputs = model(inputs)\n",
        "            loss = criterion(outputs, labels)\n",
        "            val_loss += loss.item()\n",
        "            _, preds = torch.max(outputs, 1)\n",
        "            total += labels.size(0)\n",
        "            correct += (preds == labels).sum().item()\n",
        "    val_loss /= len(test_loader)\n",
        "    val_acc = 100 * correct / total\n",
        "\n",
        "    # Check if the current model has the best validation accuracy\n",
        "    if val_acc > best_val_acc:\n",
        "        best_val_acc = val_acc\n",
        "        best_epoch = epoch + 1\n",
        "        # Save the model's state_dict\n",
        "        torch.save(model.state_dict(), 'best_model.pth')\n",
        "\n",
        "    epoch_time = time.time() - epoch_start\n",
        "    print(f\"Epoch {epoch+1}/{num_epochs} completed in {epoch_time:.2f}s\")\n",
        "    print(f\"Train Loss: {train_loss:.4f}, Train Acc: {train_acc:.2f}%\")\n",
        "    print(f\"Validation Loss: {val_loss:.4f}, Validation Acc: {val_acc:.2f}%\\n\")\n",
        "\n",
        "print(f\"Training complete! Best validation accuracy: {best_val_acc:.2f}% at epoch {best_epoch}.\")"
      ]
    },
    {
      "cell_type": "code",
      "execution_count": null,
      "metadata": {
        "colab": {
          "base_uri": "https://localhost:8080/"
        },
        "id": "32rj_LTVi9Gu",
        "outputId": "d0727b25-5360-491e-93b5-d5eddbdb1b96"
      },
      "outputs": [
        {
          "name": "stdout",
          "output_type": "stream",
          "text": [
            "Model saved to ResNetmodel.pt\n"
          ]
        }
      ],
      "source": [
        "# Save the trained model\n",
        "torch.save(model.state_dict(), 'ResNet_300epoch_70.pt')\n",
        "print(\"Model saved to ResNetmodel.pt\")\n"
      ]
    },
    {
      "cell_type": "code",
      "execution_count": null,
      "metadata": {
        "colab": {
          "base_uri": "https://localhost:8080/",
          "height": 1000
        },
        "id": "XfuiRKLMk8p8",
        "outputId": "28d0efbb-2e6c-4b2b-eda5-d6234a193df0"
      },
      "outputs": [
        {
          "name": "stderr",
          "output_type": "stream",
          "text": [
            "<ipython-input-93-4cbbf6d5690d>:8: FutureWarning: You are using `torch.load` with `weights_only=False` (the current default value), which uses the default pickle module implicitly. It is possible to construct malicious pickle data which will execute arbitrary code during unpickling (See https://github.com/pytorch/pytorch/blob/main/SECURITY.md#untrusted-models for more details). In a future release, the default value for `weights_only` will be flipped to `True`. This limits the functions that could be executed during unpickling. Arbitrary objects will no longer be allowed to be loaded via this mode unless they are explicitly allowlisted by the user via `torch.serialization.add_safe_globals`. We recommend you start setting `weights_only=True` for any use case where you don't have full control of the loaded file. Please open an issue on GitHub for any issues related to this experimental feature.\n",
            "  model.load_state_dict(torch.load('best_model.pth'))\n"
          ]
        },
        {
          "data": {
            "image/png": "[encoded data removed]",
            "text/plain": [
              "<Figure size 1000x1000 with 2 Axes>"
            ]
          },
          "metadata": {},
          "output_type": "display_data"
        }
      ],
      "source": [
        "import matplotlib.pyplot as plt\n",
        "import numpy as np\n",
        "from sklearn.metrics import confusion_matrix\n",
        "\n",
        "# Load the best model\n",
        "model.load_state_dict(torch.load('best_model.pth'))\n",
        "model.eval()\n",
        "\n",
        "# Initialize lists to store predictions and true labels\n",
        "all_preds = []\n",
        "all_labels = []\n",
        "\n",
        "# Iterate over the test data to make predictions\n",
        "with torch.no_grad():\n",
        "    for inputs, labels in test_loader:\n",
        "        inputs, labels = inputs.to(device), labels.to(device)\n",
        "        outputs = model(inputs)\n",
        "        _, preds = torch.max(outputs, 1)\n",
        "        all_preds.extend(preds.cpu().numpy())\n",
        "        all_labels.extend(labels.cpu().numpy())\n",
        "\n",
        "# Create the confusion matrix\n",
        "cm = confusion_matrix(all_labels, all_preds)\n",
        "\n",
        "# Plot the confusion matrix\n",
        "fig, ax = plt.subplots(figsize=(10, 10))\n",
        "im = ax.imshow(cm, interpolation='nearest', cmap=plt.cm.Blues)\n",
        "ax.figure.colorbar(im, ax=ax)\n",
        "\n",
        "classes = list(range(10))  #  10 classes (CIFAR-10)\n",
        "ax.set(xticks=np.arange(cm.shape[1]),\n",
        "       yticks=np.arange(cm.shape[0]),\n",
        "       xticklabels=classes, yticklabels=classes,\n",
        "       title='Confusion Matrix',\n",
        "       ylabel='True label',\n",
        "       xlabel='Predicted label')\n",
        "\n",
        "plt.setp(ax.get_xticklabels(), rotation=45, ha=\"right\",\n",
        "         rotation_mode=\"anchor\")\n",
        "\n",
        "fmt = 'd'\n",
        "thresh = cm.max() / 2.\n",
        "for i in range(cm.shape[0]):\n",
        "    for j in range(cm.shape[1]):\n",
        "        ax.text(j, i, format(cm[i, j], fmt),\n",
        "                ha=\"center\", va=\"center\",\n",
        "                color=\"white\" if cm[i, j] > thresh else \"black\")\n",
        "fig.tight_layout()\n",
        "plt.show()\n"
      ]
    },
    {
      "cell_type": "code",
      "execution_count": null,
      "metadata": {
        "colab": {
          "base_uri": "https://localhost:8080/"
        },
        "id": "KWjgLZ7_ilE2",
        "outputId": "170bba4e-ff1f-429c-c842-20026a8e90b3"
      },
      "outputs": [
        {
          "name": "stderr",
          "output_type": "stream",
          "text": [
            "<ipython-input-89-28ca7a4d8f76>:11: FutureWarning: You are using `torch.load` with `weights_only=False` (the current default value), which uses the default pickle module implicitly. It is possible to construct malicious pickle data which will execute arbitrary code during unpickling (See https://github.com/pytorch/pytorch/blob/main/SECURITY.md#untrusted-models for more details). In a future release, the default value for `weights_only` will be flipped to `True`. This limits the functions that could be executed during unpickling. Arbitrary objects will no longer be allowed to be loaded via this mode unless they are explicitly allowlisted by the user via `torch.serialization.add_safe_globals`. We recommend you start setting `weights_only=True` for any use case where you don't have full control of the loaded file. Please open an issue on GitHub for any issues related to this experimental feature.\n",
            "  model.load_state_dict(torch.load('best_model.pth', map_location=device))\n"
          ]
        },
        {
          "name": "stdout",
          "output_type": "stream",
          "text": [
            "Loaded test data keys: [b'data', b'ids']\n",
            "Data shape before processing: (10000, 32, 32, 3)\n",
            "IDs shape: (10000,)\n",
            "Data shape after transposition: (10000, 3, 32, 32)\n"
          ]
        }
      ],
      "source": [
        "import pickle\n",
        "import numpy as np\n",
        "import torch\n",
        "from torch.utils.data import DataLoader, TensorDataset\n",
        "import torch.nn as nn\n",
        "import pandas as pd\n",
        "\n",
        "\n",
        "device = torch.device(\"cuda\" if torch.cuda.is_available() else \"cpu\")\n",
        "\n",
        "model.load_state_dict(torch.load('best_model.pth', map_location=device))\n",
        "model.to(device)\n",
        "model.eval()\n",
        "\n",
        "criterion = nn.CrossEntropyLoss()\n",
        "\n",
        "\n",
        "with open('cifar_test_nolabel.pkl', 'rb') as f:\n",
        "    test_data = pickle.load(f, encoding='latin1')\n",
        "\n",
        "print(\"Loaded test data keys:\", list(test_data.keys()))\n",
        "\n",
        "data = test_data[b'data']\n",
        "ids = test_data[b'ids']\n",
        "\n",
        "print(\"Data shape before processing:\", data.shape)\n",
        "print(\"IDs shape:\", ids.shape)\n",
        "\n",
        "if data.ndim == 4 and data.shape[-1] == 3:\n",
        "    data = np.transpose(data, (0, 3, 1, 2))\n",
        "print(\"Data shape after transposition:\", data.shape)\n",
        "\n",
        "\n",
        "data_tensor = torch.tensor(data, dtype=torch.float32)\n",
        "\n",
        "data_tensor = data_tensor / 255.0\n",
        "\n",
        "test_dataset = TensorDataset(data_tensor)\n",
        "testloader = DataLoader(test_dataset, batch_size=32, shuffle=False)\n",
        "\n",
        "predictions = []\n",
        "with torch.no_grad():\n",
        "    for batch in testloader:\n",
        "        inputs = batch[0].to(device)\n",
        "        outputs = model(inputs)\n",
        "        _, preds = outputs.max(1)\n",
        "        predictions.extend(preds.cpu().numpy())\n",
        "\n",
        "results = list(zip(ids, predictions))"
      ]
    },
    {
      "cell_type": "code",
      "execution_count": null,
      "metadata": {
        "colab": {
          "base_uri": "https://localhost:8080/"
        },
        "id": "QpEXjXF7ip_R",
        "outputId": "02dbfef4-760b-4066-da80-d848f824c1d4"
      },
      "outputs": [
        {
          "name": "stdout",
          "output_type": "stream",
          "text": [
            "Sample results (ID, Labels):\n",
            "(0, 2)\n",
            "(1, 2)\n",
            "(2, 8)\n",
            "(3, 2)\n",
            "(4, 4)\n",
            "(5, 2)\n",
            "(6, 8)\n",
            "(7, 2)\n",
            "(8, 8)\n",
            "(9, 0)\n",
            "Predictions saved to predictions.csv\n"
          ]
        }
      ],
      "source": [
        "# Pair sample IDs with predictions and export to CSV\n",
        "results = list(zip(ids, predictions))\n",
        "print(\"Sample results (ID, Labels):\")\n",
        "for r in results[:10]:\n",
        "    print(r)\n",
        "\n",
        "df = pd.DataFrame(results, columns=['ID', 'Labels'])\n",
        "df.to_csv('predictions.csv', index=False)\n",
        "print(\"Predictions saved to predictions.csv\")"
      ]
    }
  ],
  "metadata": {
    "accelerator": "GPU",
    "colab": {
      "gpuType": "A100",
      "provenance": []
    },
    "kernelspec": {
      "display_name": "Python 3",
      "name": "python3"
    },
    "language_info": {
      "name": "python"
    }
  },
  "nbformat": 4,
  "nbformat_minor": 0
}
